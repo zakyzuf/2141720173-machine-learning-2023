{
  "nbformat": 4,
  "nbformat_minor": 0,
  "metadata": {
    "colab": {
      "provenance": [],
      "gpuType": "T4",
      "authorship_tag": "ABX9TyNgHWHi9FFOh5GmOAl1F3Xw",
      "include_colab_link": true
    },
    "kernelspec": {
      "name": "python3",
      "display_name": "Python 3"
    },
    "language_info": {
      "name": "python"
    },
    "accelerator": "GPU"
  },
  "cells": [
    {
      "cell_type": "markdown",
      "metadata": {
        "id": "view-in-github",
        "colab_type": "text"
      },
      "source": [
        "<a href=\"https://colab.research.google.com/github/zakyzuf/2141720173-machine-learning-2023/blob/main/Pertemuan%2010-Recurrent%20Neural%20Network%20(RNN)/JS10.ipynb\" target=\"_parent\"><img src=\"https://colab.research.google.com/assets/colab-badge.svg\" alt=\"Open In Colab\"/></a>"
      ]
    },
    {
      "cell_type": "markdown",
      "source": [
        "# Praktikum 1: RNN untuk Analisis Sentimen"
      ],
      "metadata": {
        "id": "iYXWrCs1Tv3u"
      }
    },
    {
      "cell_type": "markdown",
      "source": [
        "### Setup"
      ],
      "metadata": {
        "id": "ZG__M5pIT7kv"
      }
    },
    {
      "cell_type": "code",
      "execution_count": 4,
      "metadata": {
        "id": "-drHK42jTp0X"
      },
      "outputs": [],
      "source": [
        "import numpy as np\n",
        "import tensorflow_datasets as tfds\n",
        "import tensorflow as tf\n",
        "\n",
        "tfds.disable_progress_bar()"
      ]
    },
    {
      "cell_type": "code",
      "source": [
        "import matplotlib.pyplot as plt\n",
        "\n",
        "def plot_graphs(history, metric):\n",
        " plt.plot(history.history[metric])\n",
        " plt.plot(history.history['val_'+metric], '')\n",
        " plt.xlabel(\"Epochs\")\n",
        " plt.ylabel(metric)\n",
        " plt.legend([metric, 'val_'+metric])"
      ],
      "metadata": {
        "id": "GvXi1CZTT_b1"
      },
      "execution_count": 5,
      "outputs": []
    },
    {
      "cell_type": "markdown",
      "source": [
        "### Setup input pipeline\n",
        "\n",
        "#### Download Dataset"
      ],
      "metadata": {
        "id": "ZVn5DcmLUPZN"
      }
    },
    {
      "cell_type": "code",
      "source": [
        "dataset, info = tfds.load('imdb_reviews', with_info=True,\n",
        "                          as_supervised=True)\n",
        "train_dataset, test_dataset = dataset['train'], dataset['test']\n",
        "\n",
        "train_dataset.element_spec"
      ],
      "metadata": {
        "colab": {
          "base_uri": "https://localhost:8080/"
        },
        "id": "lY65fNEAUSSF",
        "outputId": "9c3e3ddb-3193-47e8-fc73-68e434e179c9"
      },
      "execution_count": 6,
      "outputs": [
        {
          "output_type": "stream",
          "name": "stdout",
          "text": [
            "Downloading and preparing dataset 80.23 MiB (download: 80.23 MiB, generated: Unknown size, total: 80.23 MiB) to /root/tensorflow_datasets/imdb_reviews/plain_text/1.0.0...\n",
            "Dataset imdb_reviews downloaded and prepared to /root/tensorflow_datasets/imdb_reviews/plain_text/1.0.0. Subsequent calls will reuse this data.\n"
          ]
        },
        {
          "output_type": "execute_result",
          "data": {
            "text/plain": [
              "(TensorSpec(shape=(), dtype=tf.string, name=None),\n",
              " TensorSpec(shape=(), dtype=tf.int64, name=None))"
            ]
          },
          "metadata": {},
          "execution_count": 6
        }
      ]
    },
    {
      "cell_type": "code",
      "source": [
        "for example, label in train_dataset.take(1):\n",
        "  print('text: ', example.numpy())\n",
        "  print('label: ', label.numpy())"
      ],
      "metadata": {
        "colab": {
          "base_uri": "https://localhost:8080/"
        },
        "id": "_nJBS13pUmvG",
        "outputId": "2c2f3ee0-2117-44ba-8e19-7a10d502ef05"
      },
      "execution_count": 7,
      "outputs": [
        {
          "output_type": "stream",
          "name": "stdout",
          "text": [
            "text:  b\"This was an absolutely terrible movie. Don't be lured in by Christopher Walken or Michael Ironside. Both are great actors, but this must simply be their worst role in history. Even their great acting could not redeem this movie's ridiculous storyline. This movie is an early nineties US propaganda piece. The most pathetic scenes were those when the Columbian rebels were making their cases for revolutions. Maria Conchita Alonso appeared phony, and her pseudo-love affair with Walken was nothing but a pathetic emotional plug in a movie that was devoid of any real meaning. I am disappointed that there are movies like this, ruining actor's like Christopher Walken's good name. I could barely sit through it.\"\n",
            "label:  0\n"
          ]
        }
      ]
    },
    {
      "cell_type": "markdown",
      "source": [
        "#### Acak data untuk pelatihan dan membuat kumpulan pasangan (teks, label)"
      ],
      "metadata": {
        "id": "e0LIN9KPUsJQ"
      }
    },
    {
      "cell_type": "code",
      "source": [
        "BUFFER_SIZE = 10000\n",
        "BATCH_SIZE = 64\n",
        "\n",
        "train_dataset = train_dataset.shuffle(BUFFER_SIZE).batch(BATCH_SIZE).prefetch(tf.data.AUTOTUNE)\n",
        "test_dataset = test_dataset.batch(BATCH_SIZE).prefetch(tf.data.AUTOTUNE)\n",
        "\n",
        "for example, label in train_dataset.take(1):\n",
        "  print('texts: ', example.numpy()[:3])\n",
        "  print()\n",
        "  print('labels: ', label.numpy()[:3])"
      ],
      "metadata": {
        "colab": {
          "base_uri": "https://localhost:8080/"
        },
        "id": "KZVTEuFhUuFD",
        "outputId": "46cdd952-c89b-4678-e223-f793d71d5310"
      },
      "execution_count": 8,
      "outputs": [
        {
          "output_type": "stream",
          "name": "stdout",
          "text": [
            "texts:  [b'Peter O\\'Toole is a treat to watch in roles where the lines he speaks are good and offer a chance for him to swagger in drunken stupor. The lovely Susannah York provides a good foil for O\\'Toole\\'s dramatic presence.<br /><br />The film alludes to incest--without a single explicit scene--but it is able to entertain the viewer in its raucous social commentary. Though this is not major film by any reckoning, it will be remembered for its entertaining performances. <br /><br />Even York, signing the papers at the end, is a treat to watch, exuding tragedy silently. The possible weakness here is Thompson\\'s laid-back direction. But the film floats because of the actors and the script.<br /><br />I saw the film twice over a period of 20 years--on both occasions with the name \"Brotherly love\". \"Country dance\" is a rather farcical and inappropriate title for this movie, wherever it was released as such.'\n",
            " b'The original movie, The Odd Couple, has some wonderful comic one-liners. The entire world it seems knows the story of neurotic neat-freak Felix Ungar and funny, obnoxious, slob Oscar Madison. This paring of mismatched roommates created one of the most successful TV series of all time as well as countless, not anywhere near as good, imitations.<br /><br />The Odd Couple movie has some wonderful jokes about Oscar\\'s apartment and his sloppy habits. He says, \"Who wants food?\" One of his poker player buddies asks, \"What do ya got?\" Oscar says, \"I got brown sandwiches and green sandwiches.\" \"What\\'s the brown?\" It\\'s either very new cheese or very old meat!\" I also love the line about Oscar\\'s refrigerator, \"It\\'s been out of order for two weeks, I saw milk standing in there that wasn\\'t even in a bottle!\" There is no question that Walter Matthau\\'s Oscar Madison is a joy to watch on screen. He\\'s almost as good as Jack Klugman\\'s version in the TV series.<br /><br />The problem with the movie is Jack Lemmon\\'s Felix Ungar. Jack makes a very, very, honest effort at the role. The problem is that he makes Felix SO depressing and down-trodden that he becomes more annoying than comical. Tony Randall\\'s performance in the series, brought the kind of humor, warmth, and sensitivity, to Felix\\'s character, which Lemmon\\'s portrayal lacks. Tony\\'s Felix Unger obviously could be annoying some of the time. However, in the TV series, it related to specific situations where the annoyance was needed in the storyline. Jack\\'s Felix Ungar, (note the different spelling) in the movie, seems to never be happy, fun, or interesting. The movie Felix Ungar is a roommate that drives you up the wall, all the time.<br /><br />The movie still has great moments that withstand the test of time, the \"famous\" meatloaf fight is one of the greatest scenes ever! One of the other great examples of Felix\\'s \"little notes\" on Oscar\\'s pillow will be remembered forever. However, there are some darker sides where Oscar goes over the top, His \"crying\" near the end after bawling out Felix, and a scene involving Felix\\'s Linguine dinner, (although lightened by a funny line.) seem more depressing than comical.<br /><br />Perhaps there wasn\\'t enough time to see the lighter side of these characters that made the series so memorable in the movie. The beginning 20 minutes are very boring. The same issue occurs with Felix\\'s conversation with the Pidgeon Sisters. The movie\\'s ending is predictable and too pat. There\\'s very little care or compassion for each of them by the other. The result is that the darker side of the film leads to a lot of depression and anger, rather than comedy, unless you are watching the great scenes described above. It appears that Jack Lemmon\\'s monotone persona of Felix brings the film down, rather than enhances or embraces the comedy between the characters.<br /><br />It really took the 1970\\'s TV series to make The Odd Couple the best that it could be. The original film is still very good. However, the TV series is much better.'\n",
            " b\"An unpleasant woman and an equally unpleasant man are violently and horribly assaulted by a group of two-dimensional psycho thugs during a night-time encounter on a forest road in Shropshire, England. The man and woman who were assaulted plan and carry out a revenge attack on their attackers...<br /><br />Utterly repellent piece of voyeuristic trash, somehow masquerading as 'thought-provoking' drama, whilst actually coming across as sub-Michael Winner cr*p (you just know that Oliver Reed and Susan George would have been cast had it so easily have been made in the 1970s). What happens to Alice (Gillian Anderson) and Adam (Danny Dyer) is appalling and devastating, yet Dan Reed somehow manages to rub the viewer's nose in every last glob of its sexual nastiness. His camera lingers hungrily on Anderson's naked body both during and after the assault, whilst the script leaves almost all the characters floundering in a turgid sea of two dimensional clich\\xc3\\xa9. His script forces his characters to behave in such a way as to alienate the viewer further from the 'victims' by shoving more ghastly situations into their faces (Adams's attempted post-incident assaults on both Sophie and Alice; Alice's assault on Heffer AFTER his suicide-attempt confession).<br /><br />The quandary comes from the central protagonists' performances - Dyer is a horrible actor, incapable of light and shade as the young male victim of the initial assault (he'll end up in Eastenders, mark my words), but Anderson is extraordinary. Even as the atrocious script forces her character to behave in depraved and ludicrous ways, she somehow delivers an extraordinarily compelling and complicated characterisation as a self-indulgent, arrogant hedonist who encounters such horrors and needs to retaliate.<br /><br />A vile and pointless film then, almost but not quite rescued by a compelling central female performance.\"]\n",
            "\n",
            "labels:  [1 1 0]\n"
          ]
        }
      ]
    },
    {
      "cell_type": "markdown",
      "source": [
        "### Buat Teks Encoder"
      ],
      "metadata": {
        "id": "GzsJGrnpU0_d"
      }
    },
    {
      "cell_type": "code",
      "source": [
        "VOCAB_SIZE = 1000\n",
        "encoder = tf.keras.layers.TextVectorization(\n",
        "    max_tokens=VOCAB_SIZE)\n",
        "encoder.adapt(train_dataset.map(lambda text, label: text))"
      ],
      "metadata": {
        "id": "TSWXCxKmU4Fc"
      },
      "execution_count": 9,
      "outputs": []
    },
    {
      "cell_type": "code",
      "source": [
        "vocab = np.array(encoder.get_vocabulary())\n",
        "vocab[:20]"
      ],
      "metadata": {
        "colab": {
          "base_uri": "https://localhost:8080/"
        },
        "id": "qgeDvvLoVBJ8",
        "outputId": "e8dd1c71-b48b-4d94-942b-c499ccacc236"
      },
      "execution_count": 10,
      "outputs": [
        {
          "output_type": "execute_result",
          "data": {
            "text/plain": [
              "array(['', '[UNK]', 'the', 'and', 'a', 'of', 'to', 'is', 'in', 'it', 'i',\n",
              "       'this', 'that', 'br', 'was', 'as', 'for', 'with', 'movie', 'but'],\n",
              "      dtype='<U14')"
            ]
          },
          "metadata": {},
          "execution_count": 10
        }
      ]
    },
    {
      "cell_type": "code",
      "source": [
        "encoded_example = encoder(example)[:3].numpy()\n",
        "encoded_example"
      ],
      "metadata": {
        "colab": {
          "base_uri": "https://localhost:8080/"
        },
        "id": "D23uwtxlVFsD",
        "outputId": "a6e5b288-77ab-4311-9a6a-ef494d2a39a8"
      },
      "execution_count": 11,
      "outputs": [
        {
          "output_type": "execute_result",
          "data": {
            "text/plain": [
              "array([[792,   1,   7, ...,   0,   0,   0],\n",
              "       [  2, 198,  18, ...,   0,   0,   0],\n",
              "       [ 34,   1, 246, ...,   0,   0,   0]])"
            ]
          },
          "metadata": {},
          "execution_count": 11
        }
      ]
    },
    {
      "cell_type": "code",
      "source": [
        "for n in range(3):\n",
        "  print(\"Original: \", example[n].numpy())\n",
        "  print(\"Round-trip: \", \" \".join(vocab[encoded_example[n]]))\n",
        "  print()"
      ],
      "metadata": {
        "colab": {
          "base_uri": "https://localhost:8080/"
        },
        "id": "mDOqIsBMVOyB",
        "outputId": "368deb97-f1c9-4ee4-bb17-c94019b105b3"
      },
      "execution_count": 12,
      "outputs": [
        {
          "output_type": "stream",
          "name": "stdout",
          "text": [
            "Original:  b'Peter O\\'Toole is a treat to watch in roles where the lines he speaks are good and offer a chance for him to swagger in drunken stupor. The lovely Susannah York provides a good foil for O\\'Toole\\'s dramatic presence.<br /><br />The film alludes to incest--without a single explicit scene--but it is able to entertain the viewer in its raucous social commentary. Though this is not major film by any reckoning, it will be remembered for its entertaining performances. <br /><br />Even York, signing the papers at the end, is a treat to watch, exuding tragedy silently. The possible weakness here is Thompson\\'s laid-back direction. But the film floats because of the actors and the script.<br /><br />I saw the film twice over a period of 20 years--on both occasions with the name \"Brotherly love\". \"Country dance\" is a rather farcical and inappropriate title for this movie, wherever it was released as such.'\n",
            "Round-trip:  peter [UNK] is a [UNK] to watch in roles where the lines he [UNK] are good and [UNK] a chance for him to [UNK] in [UNK] [UNK] the [UNK] [UNK] york [UNK] a good [UNK] for [UNK] dramatic [UNK] br the film [UNK] to [UNK] a single [UNK] [UNK] it is able to [UNK] the viewer in its [UNK] [UNK] [UNK] though this is not major film by any [UNK] it will be [UNK] for its entertaining performances br br even york [UNK] the [UNK] at the end is a [UNK] to watch [UNK] [UNK] [UNK] the possible [UNK] here is [UNK] [UNK] direction but the film [UNK] because of the actors and the [UNK] br i saw the film [UNK] over a period of 20 [UNK] both [UNK] with the name [UNK] love country dance is a rather [UNK] and [UNK] title for this movie [UNK] it was released as such                                                                                                                                                                                                                                                                                                                                                                                                                                                                                                                                                                            \n",
            "\n",
            "Original:  b'The original movie, The Odd Couple, has some wonderful comic one-liners. The entire world it seems knows the story of neurotic neat-freak Felix Ungar and funny, obnoxious, slob Oscar Madison. This paring of mismatched roommates created one of the most successful TV series of all time as well as countless, not anywhere near as good, imitations.<br /><br />The Odd Couple movie has some wonderful jokes about Oscar\\'s apartment and his sloppy habits. He says, \"Who wants food?\" One of his poker player buddies asks, \"What do ya got?\" Oscar says, \"I got brown sandwiches and green sandwiches.\" \"What\\'s the brown?\" It\\'s either very new cheese or very old meat!\" I also love the line about Oscar\\'s refrigerator, \"It\\'s been out of order for two weeks, I saw milk standing in there that wasn\\'t even in a bottle!\" There is no question that Walter Matthau\\'s Oscar Madison is a joy to watch on screen. He\\'s almost as good as Jack Klugman\\'s version in the TV series.<br /><br />The problem with the movie is Jack Lemmon\\'s Felix Ungar. Jack makes a very, very, honest effort at the role. The problem is that he makes Felix SO depressing and down-trodden that he becomes more annoying than comical. Tony Randall\\'s performance in the series, brought the kind of humor, warmth, and sensitivity, to Felix\\'s character, which Lemmon\\'s portrayal lacks. Tony\\'s Felix Unger obviously could be annoying some of the time. However, in the TV series, it related to specific situations where the annoyance was needed in the storyline. Jack\\'s Felix Ungar, (note the different spelling) in the movie, seems to never be happy, fun, or interesting. The movie Felix Ungar is a roommate that drives you up the wall, all the time.<br /><br />The movie still has great moments that withstand the test of time, the \"famous\" meatloaf fight is one of the greatest scenes ever! One of the other great examples of Felix\\'s \"little notes\" on Oscar\\'s pillow will be remembered forever. However, there are some darker sides where Oscar goes over the top, His \"crying\" near the end after bawling out Felix, and a scene involving Felix\\'s Linguine dinner, (although lightened by a funny line.) seem more depressing than comical.<br /><br />Perhaps there wasn\\'t enough time to see the lighter side of these characters that made the series so memorable in the movie. The beginning 20 minutes are very boring. The same issue occurs with Felix\\'s conversation with the Pidgeon Sisters. The movie\\'s ending is predictable and too pat. There\\'s very little care or compassion for each of them by the other. The result is that the darker side of the film leads to a lot of depression and anger, rather than comedy, unless you are watching the great scenes described above. It appears that Jack Lemmon\\'s monotone persona of Felix brings the film down, rather than enhances or embraces the comedy between the characters.<br /><br />It really took the 1970\\'s TV series to make The Odd Couple the best that it could be. The original film is still very good. However, the TV series is much better.'\n",
            "Round-trip:  the original movie the [UNK] couple has some wonderful comic [UNK] the entire world it seems knows the story of [UNK] [UNK] [UNK] [UNK] and funny [UNK] [UNK] oscar [UNK] this [UNK] of [UNK] [UNK] [UNK] one of the most [UNK] tv series of all time as well as [UNK] not [UNK] near as good [UNK] br the [UNK] couple movie has some wonderful jokes about [UNK] [UNK] and his [UNK] [UNK] he says who wants [UNK] one of his [UNK] [UNK] [UNK] [UNK] what do [UNK] got oscar says i got [UNK] [UNK] and [UNK] [UNK] whats the [UNK] its either very new [UNK] or very old [UNK] i also love the line about [UNK] [UNK] its been out of order for two [UNK] i saw [UNK] [UNK] in there that wasnt even in a [UNK] there is no question that [UNK] [UNK] oscar [UNK] is a [UNK] to watch on screen hes almost as good as jack [UNK] version in the tv [UNK] br the problem with the movie is jack [UNK] [UNK] [UNK] jack makes a very very [UNK] effort at the role the problem is that he makes [UNK] so [UNK] and [UNK] that he becomes more annoying than [UNK] [UNK] [UNK] performance in the series brought the kind of humor [UNK] and [UNK] to [UNK] character which [UNK] [UNK] [UNK] [UNK] [UNK] [UNK] obviously could be annoying some of the time however in the tv series it [UNK] to [UNK] [UNK] where the [UNK] was needed in the storyline [UNK] [UNK] [UNK] note the different [UNK] in the movie seems to never be happy fun or interesting the movie [UNK] [UNK] is a [UNK] that [UNK] you up the [UNK] all the [UNK] br the movie still has great moments that [UNK] the [UNK] of time the famous [UNK] fight is one of the greatest scenes ever one of the other great [UNK] of [UNK] little [UNK] on [UNK] [UNK] will be [UNK] [UNK] however there are some [UNK] [UNK] where oscar goes over the top his [UNK] near the end after [UNK] out [UNK] and a scene [UNK] [UNK] [UNK] [UNK] although [UNK] by a funny line seem more [UNK] than [UNK] br perhaps there wasnt enough time to see the [UNK] side of these characters that made the series so memorable in the movie the beginning 20 minutes are very boring the same [UNK] [UNK] with [UNK] [UNK] with the [UNK] [UNK] the movies ending is predictable and too [UNK] theres very little care or [UNK] for each of them by the other the result is that the [UNK] side of the film leads to a lot of [UNK] and [UNK] rather than comedy unless you are watching the great scenes [UNK] above it appears that jack [UNK] [UNK] [UNK] of [UNK] brings the film down rather than [UNK] or [UNK] the comedy between the [UNK] br it really took the [UNK] tv series to make the [UNK] couple the best that it could be the original film is still very good however the tv series is much better                                                                                                                                                                                                \n",
            "\n",
            "Original:  b\"An unpleasant woman and an equally unpleasant man are violently and horribly assaulted by a group of two-dimensional psycho thugs during a night-time encounter on a forest road in Shropshire, England. The man and woman who were assaulted plan and carry out a revenge attack on their attackers...<br /><br />Utterly repellent piece of voyeuristic trash, somehow masquerading as 'thought-provoking' drama, whilst actually coming across as sub-Michael Winner cr*p (you just know that Oliver Reed and Susan George would have been cast had it so easily have been made in the 1970s). What happens to Alice (Gillian Anderson) and Adam (Danny Dyer) is appalling and devastating, yet Dan Reed somehow manages to rub the viewer's nose in every last glob of its sexual nastiness. His camera lingers hungrily on Anderson's naked body both during and after the assault, whilst the script leaves almost all the characters floundering in a turgid sea of two dimensional clich\\xc3\\xa9. His script forces his characters to behave in such a way as to alienate the viewer further from the 'victims' by shoving more ghastly situations into their faces (Adams's attempted post-incident assaults on both Sophie and Alice; Alice's assault on Heffer AFTER his suicide-attempt confession).<br /><br />The quandary comes from the central protagonists' performances - Dyer is a horrible actor, incapable of light and shade as the young male victim of the initial assault (he'll end up in Eastenders, mark my words), but Anderson is extraordinary. Even as the atrocious script forces her character to behave in depraved and ludicrous ways, she somehow delivers an extraordinarily compelling and complicated characterisation as a self-indulgent, arrogant hedonist who encounters such horrors and needs to retaliate.<br /><br />A vile and pointless film then, almost but not quite rescued by a compelling central female performance.\"\n",
            "Round-trip:  an [UNK] woman and an [UNK] [UNK] man are [UNK] and [UNK] [UNK] by a group of [UNK] [UNK] [UNK] during a [UNK] [UNK] on a [UNK] [UNK] in [UNK] [UNK] the man and woman who were [UNK] [UNK] and [UNK] out a [UNK] [UNK] on their [UNK] br [UNK] [UNK] piece of [UNK] [UNK] somehow [UNK] as [UNK] drama [UNK] actually coming across as [UNK] [UNK] [UNK] you just know that [UNK] [UNK] and [UNK] george would have been cast had it so easily have been made in the [UNK] what happens to [UNK] [UNK] [UNK] and [UNK] [UNK] [UNK] is [UNK] and [UNK] yet [UNK] [UNK] somehow manages to [UNK] the viewers [UNK] in every last [UNK] of its sexual [UNK] his camera [UNK] [UNK] on [UNK] [UNK] body both during and after the [UNK] [UNK] the script leaves almost all the characters [UNK] in a [UNK] [UNK] of two [UNK] [UNK] his script [UNK] his characters to [UNK] in such a way as to [UNK] the viewer [UNK] from the [UNK] by [UNK] more [UNK] [UNK] into their [UNK] [UNK] [UNK] [UNK] [UNK] on both [UNK] and [UNK] [UNK] [UNK] on [UNK] after his [UNK] [UNK] br the [UNK] comes from the [UNK] [UNK] performances [UNK] is a horrible actor [UNK] of light and [UNK] as the young male [UNK] of the [UNK] [UNK] hell end up in [UNK] mark my words but [UNK] is [UNK] even as the [UNK] script [UNK] her character to [UNK] in [UNK] and [UNK] ways she somehow [UNK] an [UNK] [UNK] and [UNK] [UNK] as a [UNK] [UNK] [UNK] who [UNK] such [UNK] and needs to [UNK] br a [UNK] and [UNK] film then almost but not quite [UNK] by a [UNK] [UNK] female performance                                                                                                                                                                                                                                                                                                                                                                                                                              \n",
            "\n"
          ]
        }
      ]
    },
    {
      "cell_type": "markdown",
      "source": [
        "### Buat Model"
      ],
      "metadata": {
        "id": "CAdYRKhsVRyX"
      }
    },
    {
      "cell_type": "code",
      "source": [
        "model = tf.keras.Sequential([\n",
        "    encoder,\n",
        "    tf.keras.layers.Embedding(\n",
        "        input_dim=len(encoder.get_vocabulary()),\n",
        "        output_dim=64,\n",
        "        # Use masking to handle the variable sequence lengths\n",
        "        mask_zero=True),\n",
        "    tf.keras.layers.Bidirectional(tf.keras.layers.LSTM(64)),\n",
        "    tf.keras.layers.Dense(64, activation='relu'),\n",
        "    tf.keras.layers.Dense(1)\n",
        "])"
      ],
      "metadata": {
        "id": "ZRokQXm6VUqs"
      },
      "execution_count": 13,
      "outputs": []
    },
    {
      "cell_type": "markdown",
      "source": [
        "#### Lapisan penyematan menggunakan masking (uses masking ) untuk menangani panjang urutan yang bervariasi."
      ],
      "metadata": {
        "id": "f7BQJCvNVjuD"
      }
    },
    {
      "cell_type": "code",
      "source": [
        "print([layer.supports_masking for layer in model.layers])"
      ],
      "metadata": {
        "colab": {
          "base_uri": "https://localhost:8080/"
        },
        "id": "3hn16ZQ-VnAY",
        "outputId": "aa7b9178-34b3-4810-fcbf-8e274876dfdc"
      },
      "execution_count": 14,
      "outputs": [
        {
          "output_type": "stream",
          "name": "stdout",
          "text": [
            "[False, True, True, True, True]\n"
          ]
        }
      ]
    },
    {
      "cell_type": "markdown",
      "source": [
        "#### Evaluasi pertama"
      ],
      "metadata": {
        "id": "KdRKiSFBVtXn"
      }
    },
    {
      "cell_type": "code",
      "source": [
        "# predict on a sample text without padding.\n",
        "\n",
        "sample_text = ('The movie was cool. The animation and the graphics '\n",
        "               'were out of this world. I would recommend this movie.')\n",
        "predictions = model.predict(np.array([sample_text]))\n",
        "print(predictions[0])"
      ],
      "metadata": {
        "colab": {
          "base_uri": "https://localhost:8080/"
        },
        "id": "KjbPUYqKVxAw",
        "outputId": "14ba410d-2aea-48d9-c4ce-2eb2997e49ec"
      },
      "execution_count": 15,
      "outputs": [
        {
          "output_type": "stream",
          "name": "stdout",
          "text": [
            "1/1 [==============================] - 7s 7s/step\n",
            "[0.00031315]\n"
          ]
        }
      ]
    },
    {
      "cell_type": "markdown",
      "source": [
        "#### Evaluasi kedua"
      ],
      "metadata": {
        "id": "fZKoyuKIV0xH"
      }
    },
    {
      "cell_type": "code",
      "source": [
        "# predict on a sample text with padding\n",
        "\n",
        "padding = \"the \" * 2000\n",
        "predictions = model.predict(np.array([sample_text, padding]))\n",
        "print(predictions[0])"
      ],
      "metadata": {
        "colab": {
          "base_uri": "https://localhost:8080/"
        },
        "id": "YGYSh5ZLV0hD",
        "outputId": "6533f42d-00c6-448d-ceef-ed75a71c36d2"
      },
      "execution_count": 16,
      "outputs": [
        {
          "output_type": "stream",
          "name": "stdout",
          "text": [
            "1/1 [==============================] - 0s 60ms/step\n",
            "[0.00031315]\n"
          ]
        }
      ]
    },
    {
      "cell_type": "markdown",
      "source": [
        "#### Compile model Keras"
      ],
      "metadata": {
        "id": "l_F0A9gWV6_-"
      }
    },
    {
      "cell_type": "code",
      "source": [
        "model.compile(loss=tf.keras.losses.BinaryCrossentropy(from_logits=True),\n",
        "              optimizer=tf.keras.optimizers.Adam(1e-4),\n",
        "              metrics=['accuracy'])"
      ],
      "metadata": {
        "id": "N8XozcmEV-j1"
      },
      "execution_count": 17,
      "outputs": []
    },
    {
      "cell_type": "markdown",
      "source": [
        "### Train Model"
      ],
      "metadata": {
        "id": "D2GsDWe8WDTB"
      }
    },
    {
      "cell_type": "code",
      "source": [
        "history = model.fit(train_dataset, epochs=10,\n",
        "                    validation_data=test_dataset,\n",
        "                    validation_steps=30)"
      ],
      "metadata": {
        "colab": {
          "base_uri": "https://localhost:8080/"
        },
        "id": "r-ZHNwgZWFbh",
        "outputId": "483f63e9-5725-4c91-9b1d-3f4997738764"
      },
      "execution_count": 18,
      "outputs": [
        {
          "output_type": "stream",
          "name": "stdout",
          "text": [
            "Epoch 1/10\n",
            "391/391 [==============================] - 49s 100ms/step - loss: 0.6409 - accuracy: 0.5608 - val_loss: 0.4872 - val_accuracy: 0.7536\n",
            "Epoch 2/10\n",
            "391/391 [==============================] - 26s 65ms/step - loss: 0.4010 - accuracy: 0.8145 - val_loss: 0.3639 - val_accuracy: 0.8359\n",
            "Epoch 3/10\n",
            "391/391 [==============================] - 25s 64ms/step - loss: 0.3374 - accuracy: 0.8516 - val_loss: 0.3366 - val_accuracy: 0.8547\n",
            "Epoch 4/10\n",
            "391/391 [==============================] - 24s 61ms/step - loss: 0.3155 - accuracy: 0.8635 - val_loss: 0.3301 - val_accuracy: 0.8583\n",
            "Epoch 5/10\n",
            "391/391 [==============================] - 24s 61ms/step - loss: 0.3099 - accuracy: 0.8656 - val_loss: 0.3260 - val_accuracy: 0.8651\n",
            "Epoch 6/10\n",
            "391/391 [==============================] - 25s 63ms/step - loss: 0.3045 - accuracy: 0.8676 - val_loss: 0.3192 - val_accuracy: 0.8552\n",
            "Epoch 7/10\n",
            "391/391 [==============================] - 25s 63ms/step - loss: 0.3021 - accuracy: 0.8696 - val_loss: 0.3182 - val_accuracy: 0.8562\n",
            "Epoch 8/10\n",
            "391/391 [==============================] - 24s 61ms/step - loss: 0.2986 - accuracy: 0.8718 - val_loss: 0.3203 - val_accuracy: 0.8510\n",
            "Epoch 9/10\n",
            "391/391 [==============================] - 25s 63ms/step - loss: 0.3012 - accuracy: 0.8694 - val_loss: 0.3331 - val_accuracy: 0.8620\n",
            "Epoch 10/10\n",
            "391/391 [==============================] - 24s 62ms/step - loss: 0.2966 - accuracy: 0.8722 - val_loss: 0.3272 - val_accuracy: 0.8427\n"
          ]
        }
      ]
    },
    {
      "cell_type": "code",
      "source": [
        "test_loss, test_acc = model.evaluate(test_dataset)\n",
        "\n",
        "print('Test Loss:', test_loss)\n",
        "print('Test Accuracy:', test_acc)"
      ],
      "metadata": {
        "colab": {
          "base_uri": "https://localhost:8080/"
        },
        "id": "YiLIxj-zWQ3n",
        "outputId": "d780480f-e5b7-4455-9731-33f2d3246041"
      },
      "execution_count": 19,
      "outputs": [
        {
          "output_type": "stream",
          "name": "stdout",
          "text": [
            "391/391 [==============================] - 11s 29ms/step - loss: 0.3253 - accuracy: 0.8434\n",
            "Test Loss: 0.3253357708454132\n",
            "Test Accuracy: 0.8433600068092346\n"
          ]
        }
      ]
    },
    {
      "cell_type": "code",
      "source": [
        "plt.figure(figsize=(16, 8))\n",
        "plt.subplot(1, 2, 1)\n",
        "plot_graphs(history, 'accuracy')\n",
        "plt.ylim(None, 1)\n",
        "plt.subplot(1, 2, 2)\n",
        "plot_graphs(history, 'loss')\n",
        "plt.ylim(0, None)"
      ],
      "metadata": {
        "colab": {
          "base_uri": "https://localhost:8080/",
          "height": 639
        },
        "id": "ndLtyuloueWh",
        "outputId": "b21ed73f-5ca9-4e91-b2ba-b4c23376136c"
      },
      "execution_count": 20,
      "outputs": [
        {
          "output_type": "execute_result",
          "data": {
            "text/plain": [
              "(0.0, 0.6580631628632545)"
            ]
          },
          "metadata": {},
          "execution_count": 20
        },
        {
          "output_type": "display_data",
          "data": {
            "text/plain": [
              "<Figure size 1600x800 with 2 Axes>"
            ],
            "image/png": "[encoded data removed]"
          },
          "metadata": {}
        }
      ]
    },
    {
      "cell_type": "code",
      "source": [
        "sample_text = ('The movie was cool. The animation and the graphics '\n",
        "               'were out of this world. I would recommend this movie.')\n",
        "predictions = model.predict(np.array([sample_text]))"
      ],
      "metadata": {
        "colab": {
          "base_uri": "https://localhost:8080/"
        },
        "id": "CTPjqfEDuiq9",
        "outputId": "691af325-53b5-4258-8310-62d7964495a5"
      },
      "execution_count": 21,
      "outputs": [
        {
          "output_type": "stream",
          "name": "stdout",
          "text": [
            "1/1 [==============================] - 2s 2s/step\n"
          ]
        }
      ]
    },
    {
      "cell_type": "markdown",
      "source": [
        "### Stack two or more LSTM layers"
      ],
      "metadata": {
        "id": "c2B_NWDOu0LN"
      }
    },
    {
      "cell_type": "code",
      "source": [
        "model = tf.keras.Sequential([\n",
        "    encoder,\n",
        "    tf.keras.layers.Embedding(len(encoder.get_vocabulary()), 64, mask_zero=True),\n",
        "    tf.keras.layers.Bidirectional(tf.keras.layers.LSTM(64, return_sequences=True)),\n",
        "    tf.keras.layers.Bidirectional(tf.keras.layers.LSTM(32)),\n",
        "    tf.keras.layers.Dense(64, activation='relu'),\n",
        "    tf.keras.layers.Dropout(0.5),\n",
        "    tf.keras.layers.Dense(1)\n",
        "])"
      ],
      "metadata": {
        "id": "MDgZHrngu1EG"
      },
      "execution_count": 22,
      "outputs": []
    },
    {
      "cell_type": "code",
      "source": [
        "model.compile(loss=tf.keras.losses.BinaryCrossentropy(from_logits=True),\n",
        "              optimizer=tf.keras.optimizers.Adam(1e-4),\n",
        "              metrics=['accuracy'])"
      ],
      "metadata": {
        "id": "mmzXFHQNvCxk"
      },
      "execution_count": 23,
      "outputs": []
    },
    {
      "cell_type": "code",
      "source": [
        "history = model.fit(train_dataset, epochs=10,\n",
        "                    validation_data=test_dataset,\n",
        "                    validation_steps=30)"
      ],
      "metadata": {
        "colab": {
          "base_uri": "https://localhost:8080/"
        },
        "id": "BsrEj4m4vIEb",
        "outputId": "9c32f17b-ac13-402e-9249-44a665a3e06f"
      },
      "execution_count": 24,
      "outputs": [
        {
          "output_type": "stream",
          "name": "stdout",
          "text": [
            "Epoch 1/10\n",
            "391/391 [==============================] - 76s 149ms/step - loss: 0.6131 - accuracy: 0.6034 - val_loss: 0.4246 - val_accuracy: 0.8036\n",
            "Epoch 2/10\n",
            "391/391 [==============================] - 46s 117ms/step - loss: 0.3808 - accuracy: 0.8359 - val_loss: 0.3500 - val_accuracy: 0.8568\n",
            "Epoch 3/10\n",
            "391/391 [==============================] - 46s 118ms/step - loss: 0.3408 - accuracy: 0.8566 - val_loss: 0.3428 - val_accuracy: 0.8615\n",
            "Epoch 4/10\n",
            "391/391 [==============================] - 45s 115ms/step - loss: 0.3212 - accuracy: 0.8638 - val_loss: 0.3278 - val_accuracy: 0.8552\n",
            "Epoch 5/10\n",
            "391/391 [==============================] - 44s 113ms/step - loss: 0.3115 - accuracy: 0.8666 - val_loss: 0.3318 - val_accuracy: 0.8401\n",
            "Epoch 6/10\n",
            "391/391 [==============================] - 45s 116ms/step - loss: 0.3068 - accuracy: 0.8698 - val_loss: 0.3217 - val_accuracy: 0.8599\n",
            "Epoch 7/10\n",
            "391/391 [==============================] - 45s 114ms/step - loss: 0.3019 - accuracy: 0.8705 - val_loss: 0.3226 - val_accuracy: 0.8547\n",
            "Epoch 8/10\n",
            "391/391 [==============================] - 44s 112ms/step - loss: 0.3002 - accuracy: 0.8717 - val_loss: 0.3279 - val_accuracy: 0.8516\n",
            "Epoch 9/10\n",
            "391/391 [==============================] - 44s 113ms/step - loss: 0.2975 - accuracy: 0.8728 - val_loss: 0.3202 - val_accuracy: 0.8599\n",
            "Epoch 10/10\n",
            "391/391 [==============================] - 45s 115ms/step - loss: 0.2954 - accuracy: 0.8737 - val_loss: 0.3269 - val_accuracy: 0.8448\n"
          ]
        }
      ]
    },
    {
      "cell_type": "code",
      "source": [
        "test_loss, test_acc = model.evaluate(test_dataset)\n",
        "\n",
        "print('Test Loss:', test_loss)\n",
        "print('Test Accuracy:', test_acc)"
      ],
      "metadata": {
        "colab": {
          "base_uri": "https://localhost:8080/"
        },
        "id": "jwNyUeF4ZScO",
        "outputId": "bcf82440-9def-43e0-cba1-c10fe9b43253"
      },
      "execution_count": 25,
      "outputs": [
        {
          "output_type": "stream",
          "name": "stdout",
          "text": [
            "391/391 [==============================] - 18s 47ms/step - loss: 0.3213 - accuracy: 0.8458\n",
            "Test Loss: 0.32126539945602417\n",
            "Test Accuracy: 0.8457599878311157\n"
          ]
        }
      ]
    },
    {
      "cell_type": "code",
      "source": [
        "# predict on a sample text without padding.\n",
        "\n",
        "sample_text = ('The movie was not good. The animation and the graphics '\n",
        "              'were terrible. I would not recommend this movie.')\n",
        "predictions = model.predict(np.array([sample_text]))\n",
        "print(predictions)"
      ],
      "metadata": {
        "colab": {
          "base_uri": "https://localhost:8080/"
        },
        "id": "0T3lhuhoaDdv",
        "outputId": "9c64b781-c38f-4260-d2a5-8c93e16c60c4"
      },
      "execution_count": 26,
      "outputs": [
        {
          "output_type": "stream",
          "name": "stdout",
          "text": [
            "1/1 [==============================] - 6s 6s/step\n",
            "[[-1.7685101]]\n"
          ]
        }
      ]
    },
    {
      "cell_type": "code",
      "source": [
        "plt.figure(figsize=(16, 6))\n",
        "plt.subplot(1, 2, 1)\n",
        "plot_graphs(history, 'accuracy')\n",
        "plt.subplot(1, 2, 2)\n",
        "plot_graphs(history, 'loss')"
      ],
      "metadata": {
        "colab": {
          "base_uri": "https://localhost:8080/",
          "height": 478
        },
        "id": "zkwDRTYpabPA",
        "outputId": "a26f8c9e-8cbe-4503-eb5c-7e6d36b7c8a0"
      },
      "execution_count": 27,
      "outputs": [
        {
          "output_type": "display_data",
          "data": {
            "text/plain": [
              "<Figure size 1600x600 with 2 Axes>"
            ],
            "image/png": "[encoded data removed]"
          },
          "metadata": {}
        }
      ]
    },
    {
      "cell_type": "markdown",
      "source": [
        "# Praktikum 2: Generator Teks dengan RNN"
      ],
      "metadata": {
        "id": "67lKWC0OP2o3"
      }
    },
    {
      "cell_type": "markdown",
      "source": [
        "### Setup"
      ],
      "metadata": {
        "id": "eotiigz6P6IG"
      }
    },
    {
      "cell_type": "markdown",
      "source": [
        "#### Import TensorFlow"
      ],
      "metadata": {
        "id": "6E5TigviQHts"
      }
    },
    {
      "cell_type": "code",
      "source": [
        "import tensorflow as tf\n",
        "import numpy as np\n",
        "import os\n",
        "import time"
      ],
      "metadata": {
        "id": "ru3rC-qbP-DH"
      },
      "execution_count": 28,
      "outputs": []
    },
    {
      "cell_type": "markdown",
      "source": [
        "#### Download Dataset Shakespeare"
      ],
      "metadata": {
        "id": "upxJPUJIQLi8"
      }
    },
    {
      "cell_type": "code",
      "source": [
        "path_to_file = tf.keras.utils.get_file('shakespeare.txt', 'https://storage.googleapis.com/download.tensorflow.org/data/shakespeare.txt')"
      ],
      "metadata": {
        "colab": {
          "base_uri": "https://localhost:8080/"
        },
        "id": "kqZQDR8EQOU6",
        "outputId": "420306a0-c9b0-495b-91e7-386903723f90"
      },
      "execution_count": 29,
      "outputs": [
        {
          "output_type": "stream",
          "name": "stdout",
          "text": [
            "Downloading data from https://storage.googleapis.com/download.tensorflow.org/data/shakespeare.txt\n",
            "1115394/1115394 [==============================] - 0s 0us/step\n"
          ]
        }
      ]
    },
    {
      "cell_type": "markdown",
      "source": [
        "#### Load Data"
      ],
      "metadata": {
        "id": "O_aMLW2bQSMb"
      }
    },
    {
      "cell_type": "code",
      "source": [
        "# Read, then decode for py2 compat.\n",
        "text = open(path_to_file, 'rb').read().decode(encoding='utf-8')\n",
        "# length of text is the number of characters in it\n",
        "print(f'Length of text: {len(text)} characters')"
      ],
      "metadata": {
        "colab": {
          "base_uri": "https://localhost:8080/"
        },
        "id": "1ty-5saZQW3L",
        "outputId": "e0121cbc-4060-4b69-9c35-c0b78d9e7678"
      },
      "execution_count": 30,
      "outputs": [
        {
          "output_type": "stream",
          "name": "stdout",
          "text": [
            "Length of text: 1115394 characters\n"
          ]
        }
      ]
    },
    {
      "cell_type": "code",
      "source": [
        "# Take a look at the first 250 characters in text\n",
        "print(text[:250])"
      ],
      "metadata": {
        "colab": {
          "base_uri": "https://localhost:8080/"
        },
        "id": "-FI2_ipwQb5V",
        "outputId": "c8a27167-3b20-470c-c4dc-7ab0f7f32be9"
      },
      "execution_count": 31,
      "outputs": [
        {
          "output_type": "stream",
          "name": "stdout",
          "text": [
            "First Citizen:\n",
            "Before we proceed any further, hear me speak.\n",
            "\n",
            "All:\n",
            "Speak, speak.\n",
            "\n",
            "First Citizen:\n",
            "You are all resolved rather to die than to famish?\n",
            "\n",
            "All:\n",
            "Resolved. resolved.\n",
            "\n",
            "First Citizen:\n",
            "First, you know Caius Marcius is chief enemy to the people.\n",
            "\n"
          ]
        }
      ]
    },
    {
      "cell_type": "code",
      "source": [
        "# The unique characters in the file\n",
        "vocab = sorted(set(text))\n",
        "print(f'{len(vocab)} unique characters')"
      ],
      "metadata": {
        "colab": {
          "base_uri": "https://localhost:8080/"
        },
        "id": "pHTi8bGjQc3h",
        "outputId": "e51b652f-4d58-41be-ec4a-0436c14554f8"
      },
      "execution_count": 32,
      "outputs": [
        {
          "output_type": "stream",
          "name": "stdout",
          "text": [
            "65 unique characters\n"
          ]
        }
      ]
    },
    {
      "cell_type": "markdown",
      "source": [
        "### Olah Teks"
      ],
      "metadata": {
        "id": "ip0o4xFaQf8c"
      }
    },
    {
      "cell_type": "markdown",
      "source": [
        "#### Vectorize Teks"
      ],
      "metadata": {
        "id": "Qm8BpydVQiUG"
      }
    },
    {
      "cell_type": "code",
      "source": [
        "example_texts = ['abcdefg', 'xyz']\n",
        "chars = tf.strings.unicode_split(example_texts, input_encoding='UTF-8')\n",
        "chars"
      ],
      "metadata": {
        "colab": {
          "base_uri": "https://localhost:8080/"
        },
        "id": "EDy44PAbQm2b",
        "outputId": "c7792897-5854-4133-f658-5b17146e0c68"
      },
      "execution_count": 33,
      "outputs": [
        {
          "output_type": "execute_result",
          "data": {
            "text/plain": [
              "<tf.RaggedTensor [[b'a', b'b', b'c', b'd', b'e', b'f', b'g'], [b'x', b'y', b'z']]>"
            ]
          },
          "metadata": {},
          "execution_count": 33
        }
      ]
    },
    {
      "cell_type": "code",
      "source": [
        "ids_from_chars = tf.keras.layers.StringLookup(\n",
        "vocabulary=list(vocab), mask_token=None)"
      ],
      "metadata": {
        "id": "G9CaQbtLQxbC"
      },
      "execution_count": 34,
      "outputs": []
    },
    {
      "cell_type": "code",
      "source": [
        "ids = ids_from_chars(chars)\n",
        "ids"
      ],
      "metadata": {
        "colab": {
          "base_uri": "https://localhost:8080/"
        },
        "id": "MKep__bTQ3Af",
        "outputId": "8a6be155-0fc2-4b76-b328-7688f4f27809"
      },
      "execution_count": 35,
      "outputs": [
        {
          "output_type": "execute_result",
          "data": {
            "text/plain": [
              "<tf.RaggedTensor [[40, 41, 42, 43, 44, 45, 46], [63, 64, 65]]>"
            ]
          },
          "metadata": {},
          "execution_count": 35
        }
      ]
    },
    {
      "cell_type": "code",
      "source": [
        "chars_from_ids = tf.keras.layers.StringLookup(\n",
        "    vocabulary=ids_from_chars.get_vocabulary(), invert=True, mask_token=None)"
      ],
      "metadata": {
        "id": "RavBnhMrRDAW"
      },
      "execution_count": 36,
      "outputs": []
    },
    {
      "cell_type": "code",
      "source": [
        "chars = chars_from_ids(ids)\n",
        "chars"
      ],
      "metadata": {
        "colab": {
          "base_uri": "https://localhost:8080/"
        },
        "id": "tS5_xt62RES1",
        "outputId": "53815794-5b08-4268-da2d-a0cf968fedb4"
      },
      "execution_count": 37,
      "outputs": [
        {
          "output_type": "execute_result",
          "data": {
            "text/plain": [
              "<tf.RaggedTensor [[b'a', b'b', b'c', b'd', b'e', b'f', b'g'], [b'x', b'y', b'z']]>"
            ]
          },
          "metadata": {},
          "execution_count": 37
        }
      ]
    },
    {
      "cell_type": "code",
      "source": [
        "tf.strings.reduce_join(chars, axis=-1).numpy()"
      ],
      "metadata": {
        "colab": {
          "base_uri": "https://localhost:8080/"
        },
        "id": "GYtHNMIGRJOh",
        "outputId": "8ffe35d7-23d3-4af1-a0b4-98d810669dac"
      },
      "execution_count": 38,
      "outputs": [
        {
          "output_type": "execute_result",
          "data": {
            "text/plain": [
              "array([b'abcdefg', b'xyz'], dtype=object)"
            ]
          },
          "metadata": {},
          "execution_count": 38
        }
      ]
    },
    {
      "cell_type": "code",
      "source": [
        "def text_from_ids(ids):\n",
        "    return tf.strings.reduce_join(chars_from_ids(ids), axis=-1)"
      ],
      "metadata": {
        "id": "HOCigFf5RMiF"
      },
      "execution_count": 39,
      "outputs": []
    },
    {
      "cell_type": "markdown",
      "source": [
        "#### Prediksi\n",
        "#### Membuat Trianing Set dan Target"
      ],
      "metadata": {
        "id": "A2xAj2BGRVi3"
      }
    },
    {
      "cell_type": "code",
      "source": [
        "all_ids = ids_from_chars(tf.strings.unicode_split(text, 'UTF-8'))\n",
        "all_ids"
      ],
      "metadata": {
        "colab": {
          "base_uri": "https://localhost:8080/"
        },
        "id": "GF122MBFRaxC",
        "outputId": "e4c57883-796f-4ff8-9fe8-25f6eea9fc47"
      },
      "execution_count": 40,
      "outputs": [
        {
          "output_type": "execute_result",
          "data": {
            "text/plain": [
              "<tf.Tensor: shape=(1115394,), dtype=int64, numpy=array([19, 48, 57, ..., 46,  9,  1])>"
            ]
          },
          "metadata": {},
          "execution_count": 40
        }
      ]
    },
    {
      "cell_type": "code",
      "source": [
        "ids_dataset = tf.data.Dataset.from_tensor_slices(all_ids)"
      ],
      "metadata": {
        "id": "aKkgESMKRdft"
      },
      "execution_count": 41,
      "outputs": []
    },
    {
      "cell_type": "code",
      "source": [
        "for ids in ids_dataset.take(10):\n",
        "     print(chars_from_ids(ids).numpy().decode('utf-8'))"
      ],
      "metadata": {
        "colab": {
          "base_uri": "https://localhost:8080/"
        },
        "id": "7-QShfqlRgVf",
        "outputId": "46b3a788-772a-4977-a24a-7fdd806ca5ef"
      },
      "execution_count": 42,
      "outputs": [
        {
          "output_type": "stream",
          "name": "stdout",
          "text": [
            "F\n",
            "i\n",
            "r\n",
            "s\n",
            "t\n",
            " \n",
            "C\n",
            "i\n",
            "t\n",
            "i\n"
          ]
        }
      ]
    },
    {
      "cell_type": "code",
      "source": [
        "seq_length = 100"
      ],
      "metadata": {
        "id": "Ws8NEii4RmDT"
      },
      "execution_count": 43,
      "outputs": []
    },
    {
      "cell_type": "code",
      "source": [
        "sequences = ids_dataset.batch(seq_length+1, drop_remainder=True)\n",
        "\n",
        "for seq in sequences.take(1):\n",
        "  print(chars_from_ids(seq))"
      ],
      "metadata": {
        "colab": {
          "base_uri": "https://localhost:8080/"
        },
        "id": "iFFtrZ3RRpDQ",
        "outputId": "02de6917-71c2-4983-8286-1a78628133bd"
      },
      "execution_count": 44,
      "outputs": [
        {
          "output_type": "stream",
          "name": "stdout",
          "text": [
            "tf.Tensor(\n",
            "[b'F' b'i' b'r' b's' b't' b' ' b'C' b'i' b't' b'i' b'z' b'e' b'n' b':'\n",
            " b'\\n' b'B' b'e' b'f' b'o' b'r' b'e' b' ' b'w' b'e' b' ' b'p' b'r' b'o'\n",
            " b'c' b'e' b'e' b'd' b' ' b'a' b'n' b'y' b' ' b'f' b'u' b'r' b't' b'h'\n",
            " b'e' b'r' b',' b' ' b'h' b'e' b'a' b'r' b' ' b'm' b'e' b' ' b's' b'p'\n",
            " b'e' b'a' b'k' b'.' b'\\n' b'\\n' b'A' b'l' b'l' b':' b'\\n' b'S' b'p' b'e'\n",
            " b'a' b'k' b',' b' ' b's' b'p' b'e' b'a' b'k' b'.' b'\\n' b'\\n' b'F' b'i'\n",
            " b'r' b's' b't' b' ' b'C' b'i' b't' b'i' b'z' b'e' b'n' b':' b'\\n' b'Y'\n",
            " b'o' b'u' b' '], shape=(101,), dtype=string)\n"
          ]
        }
      ]
    },
    {
      "cell_type": "code",
      "source": [
        "for seq in sequences.take(5):\n",
        "    print(text_from_ids(seq).numpy())"
      ],
      "metadata": {
        "colab": {
          "base_uri": "https://localhost:8080/"
        },
        "id": "zqlHIv_7Rr3n",
        "outputId": "e1eb0f1f-7ba1-4583-80dc-91ceabf969a7"
      },
      "execution_count": 45,
      "outputs": [
        {
          "output_type": "stream",
          "name": "stdout",
          "text": [
            "b'First Citizen:\\nBefore we proceed any further, hear me speak.\\n\\nAll:\\nSpeak, speak.\\n\\nFirst Citizen:\\nYou '\n",
            "b'are all resolved rather to die than to famish?\\n\\nAll:\\nResolved. resolved.\\n\\nFirst Citizen:\\nFirst, you k'\n",
            "b\"now Caius Marcius is chief enemy to the people.\\n\\nAll:\\nWe know't, we know't.\\n\\nFirst Citizen:\\nLet us ki\"\n",
            "b\"ll him, and we'll have corn at our own price.\\nIs't a verdict?\\n\\nAll:\\nNo more talking on't; let it be d\"\n",
            "b'one: away, away!\\n\\nSecond Citizen:\\nOne word, good citizens.\\n\\nFirst Citizen:\\nWe are accounted poor citi'\n"
          ]
        }
      ]
    },
    {
      "cell_type": "code",
      "source": [
        "def split_input_target(sequence):\n",
        "    input_text = sequence[:-1]\n",
        "    target_text = sequence[1:]\n",
        "    return input_text, target_text"
      ],
      "metadata": {
        "id": "YXoJoUQQRwZV"
      },
      "execution_count": 46,
      "outputs": []
    },
    {
      "cell_type": "code",
      "source": [
        "split_input_target(list(\"Tensorflow\"))"
      ],
      "metadata": {
        "colab": {
          "base_uri": "https://localhost:8080/"
        },
        "id": "n3vL_BIJR5nH",
        "outputId": "eb0ea609-909b-4d54-cc25-88bbcdf7ad32"
      },
      "execution_count": 47,
      "outputs": [
        {
          "output_type": "execute_result",
          "data": {
            "text/plain": [
              "(['T', 'e', 'n', 's', 'o', 'r', 'f', 'l', 'o'],\n",
              " ['e', 'n', 's', 'o', 'r', 'f', 'l', 'o', 'w'])"
            ]
          },
          "metadata": {},
          "execution_count": 47
        }
      ]
    },
    {
      "cell_type": "code",
      "source": [
        "dataset = sequences.map(split_input_target)"
      ],
      "metadata": {
        "id": "UDX9df9qR8Na"
      },
      "execution_count": 48,
      "outputs": []
    },
    {
      "cell_type": "code",
      "source": [
        "for input_example, target_example in dataset.take(1):\n",
        "    print(\"Input :\", text_from_ids(input_example).numpy())\n",
        "    print(\"Target:\", text_from_ids(target_example).numpy())"
      ],
      "metadata": {
        "colab": {
          "base_uri": "https://localhost:8080/"
        },
        "id": "AOEodrMHSAGA",
        "outputId": "b3a7cb1c-8f98-4fd3-d810-a53c1e352245"
      },
      "execution_count": 49,
      "outputs": [
        {
          "output_type": "stream",
          "name": "stdout",
          "text": [
            "Input : b'First Citizen:\\nBefore we proceed any further, hear me speak.\\n\\nAll:\\nSpeak, speak.\\n\\nFirst Citizen:\\nYou'\n",
            "Target: b'irst Citizen:\\nBefore we proceed any further, hear me speak.\\n\\nAll:\\nSpeak, speak.\\n\\nFirst Citizen:\\nYou '\n"
          ]
        }
      ]
    },
    {
      "cell_type": "markdown",
      "source": [
        "#### Membuat Batch Training"
      ],
      "metadata": {
        "id": "IffJqM-6SOMm"
      }
    },
    {
      "cell_type": "code",
      "source": [
        "# Batch size\n",
        "BATCH_SIZE = 64\n",
        "\n",
        "# Buffer size to shuffle the dataset\n",
        "# (TF data is designed to work with possibly infinite sequences,\n",
        "# so it doesn't attempt to shuffle the entire sequence in memory. Instead,\n",
        "# it maintains a buffer in which it shuffles elements).\n",
        "BUFFER_SIZE = 10000\n",
        "\n",
        "dataset = (\n",
        "    dataset\n",
        "    .shuffle(BUFFER_SIZE)\n",
        "    .batch(BATCH_SIZE, drop_remainder=True)\n",
        "    .prefetch(tf.data.experimental.AUTOTUNE))\n",
        "\n",
        "dataset"
      ],
      "metadata": {
        "colab": {
          "base_uri": "https://localhost:8080/"
        },
        "id": "-JZZlJmASHo3",
        "outputId": "cf22f581-3694-4d1a-b503-f450fed4a115"
      },
      "execution_count": 50,
      "outputs": [
        {
          "output_type": "execute_result",
          "data": {
            "text/plain": [
              "<_PrefetchDataset element_spec=(TensorSpec(shape=(64, 100), dtype=tf.int64, name=None), TensorSpec(shape=(64, 100), dtype=tf.int64, name=None))>"
            ]
          },
          "metadata": {},
          "execution_count": 50
        }
      ]
    },
    {
      "cell_type": "markdown",
      "source": [
        "### Buat Model"
      ],
      "metadata": {
        "id": "MLM-RBGvTsuc"
      }
    },
    {
      "cell_type": "code",
      "source": [
        "# Length of the vocabulary in StringLookup Layer\n",
        "vocab_size = len(ids_from_chars.get_vocabulary())\n",
        "\n",
        "# The embedding dimension\n",
        "embedding_dim = 256\n",
        "\n",
        "# Number of RNN units\n",
        "rnn_units = 1024"
      ],
      "metadata": {
        "id": "L6gz4CCDTttd"
      },
      "execution_count": 51,
      "outputs": []
    },
    {
      "cell_type": "code",
      "source": [
        "class MyModel(tf.keras.Model):\n",
        "  def __init__(self, vocab_size, embedding_dim, rnn_units):\n",
        "    super().__init__(self)\n",
        "    self.embedding = tf.keras.layers.Embedding(vocab_size, embedding_dim)\n",
        "    self.gru = tf.keras.layers.GRU(rnn_units,\n",
        "                                   return_sequences=True,\n",
        "                                   return_state=True)\n",
        "    self.dense = tf.keras.layers.Dense(vocab_size)\n",
        "\n",
        "  def call(self, inputs, states=None, return_state=False, training=False):\n",
        "    x = inputs\n",
        "    x = self.embedding(x, training=training)\n",
        "    if states is None:\n",
        "      states = self.gru.get_initial_state(x)\n",
        "    x, states = self.gru(x, initial_state=states, training=training)\n",
        "    x = self.dense(x, training=training)\n",
        "\n",
        "    if return_state:\n",
        "      return x, states\n",
        "    else:\n",
        "      return x"
      ],
      "metadata": {
        "id": "QgiLGwN0TwKD"
      },
      "execution_count": 52,
      "outputs": []
    },
    {
      "cell_type": "code",
      "source": [
        "model = MyModel(\n",
        "    vocab_size=vocab_size,\n",
        "    embedding_dim=embedding_dim,\n",
        "    rnn_units=rnn_units)"
      ],
      "metadata": {
        "id": "cvVJMwa4Tytu"
      },
      "execution_count": 53,
      "outputs": []
    },
    {
      "cell_type": "markdown",
      "source": [
        "### Uji Model"
      ],
      "metadata": {
        "id": "ZCLEGaTWT4bY"
      }
    },
    {
      "cell_type": "code",
      "source": [
        "for input_example_batch, target_example_batch in dataset.take(1):\n",
        "    example_batch_predictions = model(input_example_batch)\n",
        "    print(example_batch_predictions.shape, \"# (batch_size, sequence_length, vocab_size)\")"
      ],
      "metadata": {
        "colab": {
          "base_uri": "https://localhost:8080/"
        },
        "id": "NM1H2ba4T52S",
        "outputId": "22461001-341b-4243-850e-5a9781758feb"
      },
      "execution_count": 54,
      "outputs": [
        {
          "output_type": "stream",
          "name": "stdout",
          "text": [
            "(64, 100, 66) # (batch_size, sequence_length, vocab_size)\n"
          ]
        }
      ]
    },
    {
      "cell_type": "code",
      "source": [
        "model.summary()"
      ],
      "metadata": {
        "colab": {
          "base_uri": "https://localhost:8080/"
        },
        "id": "-DeMi1XoT9Qa",
        "outputId": "7584af4e-9b9c-4e7c-cf3e-4ec48e343af7"
      },
      "execution_count": 55,
      "outputs": [
        {
          "output_type": "stream",
          "name": "stdout",
          "text": [
            "Model: \"my_model\"\n",
            "_________________________________________________________________\n",
            " Layer (type)                Output Shape              Param #   \n",
            "=================================================================\n",
            " embedding_2 (Embedding)     multiple                  16896     \n",
            "                                                                 \n",
            " gru (GRU)                   multiple                  3938304   \n",
            "                                                                 \n",
            " dense_4 (Dense)             multiple                  67650     \n",
            "                                                                 \n",
            "=================================================================\n",
            "Total params: 4022850 (15.35 MB)\n",
            "Trainable params: 4022850 (15.35 MB)\n",
            "Non-trainable params: 0 (0.00 Byte)\n",
            "_________________________________________________________________\n"
          ]
        }
      ]
    },
    {
      "cell_type": "code",
      "source": [
        "sampled_indices = tf.random.categorical(example_batch_predictions[0], num_samples=1)\n",
        "sampled_indices = tf.squeeze(sampled_indices, axis=-1).numpy()"
      ],
      "metadata": {
        "id": "-LUwQvqPUBJv"
      },
      "execution_count": 56,
      "outputs": []
    },
    {
      "cell_type": "code",
      "source": [
        "sampled_indices"
      ],
      "metadata": {
        "colab": {
          "base_uri": "https://localhost:8080/"
        },
        "id": "UDIvBgnHUHOm",
        "outputId": "fafdaeba-ad01-41fc-90ac-4cfa63d5183e"
      },
      "execution_count": 57,
      "outputs": [
        {
          "output_type": "execute_result",
          "data": {
            "text/plain": [
              "array([59,  5,  9, 48, 34, 56, 16, 14, 42, 64, 60, 64, 43,  7, 15, 64, 60,\n",
              "       25, 24, 51, 13,  6, 62, 41, 55, 17, 40, 63, 62, 26, 54, 32, 31,  7,\n",
              "       48, 17, 51, 38, 25, 41, 65,  3,  3, 61, 37, 48, 55, 39, 20,  3,  7,\n",
              "       44, 46, 65, 62, 53, 46, 11, 24, 57, 64, 22, 37,  7, 37, 49, 36, 64,\n",
              "       31, 13, 24, 29,  3,  4, 12,  0, 58, 10, 19, 51, 60, 27, 50, 50, 29,\n",
              "       65, 29, 14, 29, 33, 21, 56, 28, 34, 53, 60, 59, 28,  0, 24])"
            ]
          },
          "metadata": {},
          "execution_count": 57
        }
      ]
    },
    {
      "cell_type": "code",
      "source": [
        "print(\"Input:\\n\", text_from_ids(input_example_batch[0]).numpy())\n",
        "print()\n",
        "print(\"Next Char Predictions:\\n\", text_from_ids(sampled_indices).numpy())"
      ],
      "metadata": {
        "colab": {
          "base_uri": "https://localhost:8080/"
        },
        "id": "8mWx6bJ9UJ2S",
        "outputId": "baf6b02d-2017-4873-d76e-f88147d1f508"
      },
      "execution_count": 58,
      "outputs": [
        {
          "output_type": "stream",
          "name": "stdout",
          "text": [
            "Input:\n",
            " b', a virgin-violator;\\nIs it not strange and strange?\\n\\nDUKE VINCENTIO:\\nNay, it is ten times strange.\\n\\n'\n",
            "\n",
            "Next Char Predictions:\n",
            " b\"t&.iUqCAcyuyd,ByuLKl?'wbpDaxwMoSR,iDlYLbz!!vXipZG!,egzwng:KryIX,XjWyR?KP!$;[UNK]s3FluNkkPzPAPTHqOUnutO[UNK]K\"\n"
          ]
        }
      ]
    },
    {
      "cell_type": "markdown",
      "source": [
        "### Train Model"
      ],
      "metadata": {
        "id": "TQOaTOibUPj1"
      }
    },
    {
      "cell_type": "markdown",
      "source": [
        "#### Tambahan optimizer dan fungsi loss"
      ],
      "metadata": {
        "id": "pjusc_f3US-x"
      }
    },
    {
      "cell_type": "code",
      "source": [
        "loss = tf.losses.SparseCategoricalCrossentropy(from_logits=True)"
      ],
      "metadata": {
        "id": "QhSJ4UYjUNxL"
      },
      "execution_count": 59,
      "outputs": []
    },
    {
      "cell_type": "code",
      "source": [
        "example_batch_mean_loss = loss(target_example_batch, example_batch_predictions)\n",
        "print(\"Prediction shape: \", example_batch_predictions.shape, \" # (batch_size, sequence_length, vocab_size)\")\n",
        "print(\"Mean loss:        \", example_batch_mean_loss)"
      ],
      "metadata": {
        "colab": {
          "base_uri": "https://localhost:8080/"
        },
        "id": "a-2jyzF3UY71",
        "outputId": "307454ac-ecb7-4341-c12b-99ba4c6e95ae"
      },
      "execution_count": 60,
      "outputs": [
        {
          "output_type": "stream",
          "name": "stdout",
          "text": [
            "Prediction shape:  (64, 100, 66)  # (batch_size, sequence_length, vocab_size)\n",
            "Mean loss:         tf.Tensor(4.189362, shape=(), dtype=float32)\n"
          ]
        }
      ]
    },
    {
      "cell_type": "code",
      "source": [
        "tf.exp(example_batch_mean_loss).numpy()"
      ],
      "metadata": {
        "colab": {
          "base_uri": "https://localhost:8080/"
        },
        "id": "EmxaEWqPUdHu",
        "outputId": "b4ef777f-6f67-4c62-bb26-beb211bf9cb9"
      },
      "execution_count": 61,
      "outputs": [
        {
          "output_type": "execute_result",
          "data": {
            "text/plain": [
              "65.98068"
            ]
          },
          "metadata": {},
          "execution_count": 61
        }
      ]
    },
    {
      "cell_type": "code",
      "source": [
        "model.compile(optimizer='adam', loss=loss)"
      ],
      "metadata": {
        "id": "jGFWZW0cUd9r"
      },
      "execution_count": 62,
      "outputs": []
    },
    {
      "cell_type": "markdown",
      "source": [
        "#### Konfigurasi Checkpoints"
      ],
      "metadata": {
        "id": "AGtwz-oxUig1"
      }
    },
    {
      "cell_type": "code",
      "source": [
        "# Directory where the checkpoints will be saved\n",
        "checkpoint_dir = './training_checkpoints'\n",
        "# Name of the checkpoint files\n",
        "checkpoint_prefix = os.path.join(checkpoint_dir, \"ckpt_{epoch}\")\n",
        "\n",
        "checkpoint_callback = tf.keras.callbacks.ModelCheckpoint(\n",
        "    filepath=checkpoint_prefix,\n",
        "    save_weights_only=True)"
      ],
      "metadata": {
        "id": "a0V0Zox5Uj3D"
      },
      "execution_count": 63,
      "outputs": []
    },
    {
      "cell_type": "markdown",
      "source": [
        "#### Lakukan Proses Training"
      ],
      "metadata": {
        "id": "CQjSmPL1UmBh"
      }
    },
    {
      "cell_type": "code",
      "source": [
        "history = model.fit(dataset, epochs=10, callbacks=[checkpoint_callback])"
      ],
      "metadata": {
        "colab": {
          "base_uri": "https://localhost:8080/"
        },
        "id": "c6AZMZ34UqN6",
        "outputId": "eca7ac31-1444-40a9-c849-033a09e207d7"
      },
      "execution_count": 64,
      "outputs": [
        {
          "output_type": "stream",
          "name": "stdout",
          "text": [
            "Epoch 1/10\n",
            "172/172 [==============================] - 15s 63ms/step - loss: 2.6932\n",
            "Epoch 2/10\n",
            "172/172 [==============================] - 13s 62ms/step - loss: 1.9744\n",
            "Epoch 3/10\n",
            "172/172 [==============================] - 12s 60ms/step - loss: 1.7002\n",
            "Epoch 4/10\n",
            "172/172 [==============================] - 11s 57ms/step - loss: 1.5421\n",
            "Epoch 5/10\n",
            "172/172 [==============================] - 11s 58ms/step - loss: 1.4454\n",
            "Epoch 6/10\n",
            "172/172 [==============================] - 12s 60ms/step - loss: 1.3787\n",
            "Epoch 7/10\n",
            "172/172 [==============================] - 12s 61ms/step - loss: 1.3269\n",
            "Epoch 8/10\n",
            "172/172 [==============================] - 12s 60ms/step - loss: 1.2829\n",
            "Epoch 9/10\n",
            "172/172 [==============================] - 12s 59ms/step - loss: 1.2420\n",
            "Epoch 10/10\n",
            "172/172 [==============================] - 12s 58ms/step - loss: 1.2030\n"
          ]
        }
      ]
    },
    {
      "cell_type": "markdown",
      "source": [
        "### Generate Teks"
      ],
      "metadata": {
        "id": "YZX-mdRScPJY"
      }
    },
    {
      "cell_type": "code",
      "source": [
        "class OneStep(tf.keras.Model):\n",
        "  def __init__(self, model, chars_from_ids, ids_from_chars, temperature=1.0):\n",
        "    super().__init__()\n",
        "    self.temperature = temperature\n",
        "    self.model = model\n",
        "    self.chars_from_ids = chars_from_ids\n",
        "    self.ids_from_chars = ids_from_chars\n",
        "\n",
        "    # Create a mask to prevent \"[UNK]\" from being generated.\n",
        "    skip_ids = self.ids_from_chars(['[UNK]'])[:, None]\n",
        "    sparse_mask = tf.SparseTensor(\n",
        "        # Put a -inf at each bad index.\n",
        "        values=[-float('inf')]*len(skip_ids),\n",
        "        indices=skip_ids,\n",
        "        # Match the shape to the vocabulary\n",
        "        dense_shape=[len(ids_from_chars.get_vocabulary())])\n",
        "    self.prediction_mask = tf.sparse.to_dense(sparse_mask)\n",
        "\n",
        "  @tf.function\n",
        "  def generate_one_step(self, inputs, states=None):\n",
        "    # Convert strings to token IDs.\n",
        "    input_chars = tf.strings.unicode_split(inputs, 'UTF-8')\n",
        "    input_ids = self.ids_from_chars(input_chars).to_tensor()\n",
        "\n",
        "    # Run the model.\n",
        "    # predicted_logits.shape is [batch, char, next_char_logits]\n",
        "    predicted_logits, states = self.model(inputs=input_ids, states=states,\n",
        "                                          return_state=True)\n",
        "    # Only use the last prediction.\n",
        "    predicted_logits = predicted_logits[:, -1, :]\n",
        "    predicted_logits = predicted_logits/self.temperature\n",
        "    # Apply the prediction mask: prevent \"[UNK]\" from being generated.\n",
        "    predicted_logits = predicted_logits + self.prediction_mask\n",
        "\n",
        "    # Sample the output logits to generate token IDs.\n",
        "    predicted_ids = tf.random.categorical(predicted_logits, num_samples=1)\n",
        "    predicted_ids = tf.squeeze(predicted_ids, axis=-1)\n",
        "\n",
        "    # Convert from token ids to characters\n",
        "    predicted_chars = self.chars_from_ids(predicted_ids)\n",
        "\n",
        "    # Return the characters and model state.\n",
        "    return predicted_chars, states"
      ],
      "metadata": {
        "id": "yv-nb8-dcUZe"
      },
      "execution_count": 65,
      "outputs": []
    },
    {
      "cell_type": "code",
      "source": [
        "one_step_model = OneStep(model, chars_from_ids, ids_from_chars)"
      ],
      "metadata": {
        "id": "m9JiJ4UZcZPw"
      },
      "execution_count": 66,
      "outputs": []
    },
    {
      "cell_type": "code",
      "source": [
        "start = time.time()\n",
        "states = None\n",
        "next_char = tf.constant(['ROMEO:'])\n",
        "result = [next_char]\n",
        "\n",
        "for n in range(1000):\n",
        "  next_char, states = one_step_model.generate_one_step(next_char, states=states)\n",
        "  result.append(next_char)\n",
        "\n",
        "result = tf.strings.join(result)\n",
        "end = time.time()\n",
        "print(result[0].numpy().decode('utf-8'), '\\n\\n' + '_'*80)\n",
        "print('\\nRun time:', end - start)"
      ],
      "metadata": {
        "colab": {
          "base_uri": "https://localhost:8080/"
        },
        "id": "QXU8xdyWcc4X",
        "outputId": "eb6eab35-cfac-4ccf-dc16-bdc2e881f8e9"
      },
      "execution_count": 67,
      "outputs": [
        {
          "output_type": "stream",
          "name": "stdout",
          "text": [
            "ROMEO:\n",
            "Let them then.\n",
            "\n",
            "CLARENCE:\n",
            "A bride and the remain a diefif you never live.\n",
            "\n",
            "JLUTUS:\n",
            "I must let not have heard going his rather\n",
            "In their hearts. Come forefull, bedincein'd,\n",
            "She are bleeding in his people.\n",
            "\n",
            "SICINIUS:\n",
            "Let us boats the rash: therefore Clooker Edward,\n",
            "He shuning these I not in Angelo,\n",
            "Who both beftard her beats do now?\n",
            "\n",
            "Second Servant:\n",
            "Virtue, let him by crown'd sleep not good.\n",
            "\n",
            "MENENIUS:\n",
            "Where is thy death?\n",
            "What sadest thy grace equal i' the starp, thou, spirits\n",
            "Vincedit'st thou hast my brother best;\n",
            "A fair as once he sees him: and here knew\n",
            "The raresty hate the movery; one kiss hust\n",
            "For his rot unhapen thy study, and not out,\n",
            "Which by extegh on thy mask, spend it: put\n",
            "of hope is mine own good Master\n",
            "For our nother struck a lady; a worde to quietly his\n",
            "neck yet that happy disgured was rather than your Honora?\n",
            "\n",
            "POMPMIEY:\n",
            "But my country's goed,\n",
            "A noble house! Here so, to Clarence daughter, signior\n",
            "But sees now. Think you whom he hath sever'd me and that\n",
            "expectly revenge? be  \n",
            "\n",
            "________________________________________________________________________________\n",
            "\n",
            "Run time: 3.1661365032196045\n"
          ]
        }
      ]
    },
    {
      "cell_type": "code",
      "source": [
        "start = time.time()\n",
        "states = None\n",
        "next_char = tf.constant(['ROMEO:', 'ROMEO:', 'ROMEO:', 'ROMEO:', 'ROMEO:'])\n",
        "result = [next_char]\n",
        "\n",
        "for n in range(1000):\n",
        "  next_char, states = one_step_model.generate_one_step(next_char, states=states)\n",
        "  result.append(next_char)\n",
        "\n",
        "result = tf.strings.join(result)\n",
        "end = time.time()\n",
        "print(result, '\\n\\n' + '_'*80)\n",
        "print('\\nRun time:', end - start)"
      ],
      "metadata": {
        "colab": {
          "base_uri": "https://localhost:8080/"
        },
        "id": "68eIgoQbci2Y",
        "outputId": "78d20d6d-e84b-4cef-d659-f8375c00d53b"
      },
      "execution_count": 68,
      "outputs": [
        {
          "output_type": "stream",
          "name": "stdout",
          "text": [
            "tf.Tensor(\n",
            "[b\"ROMEO:\\nWhat news! what's the sway, all gone and hold\\nThe absebularrow sentence and pluck flowers.\\n\\nJULIET:\\nHere commander?\\nWhy holy honour not be slip, he masted with the wind\\nLeft I may leap you my body suddenle:\\nSee you with what the last was he:\\nHe'll stay me now. what 'twas bade to kind of hop?\\n\\nCURTIS:\\nI tell your husband,\\nAnother bearsh to the rides; there it up sir,\\nAh it better your goodmes that beguiler, the way\\nTo pray 'I will joy. Farewell; for westative hours have more belong\\ntheir home of length's and a mowning thrice Heart me.\\n\\nKING EDWARD IV:\\nBring ready, blistering the hand and--O Waking! why, though it prosperets\\nHe hast that hath broke fair mad most like a little believio.\\nBut you thank you? Thy followers there:\\nThy unkind and piteous crimorrus or consent did I receed\\nThe roof that called for subjects, let have goodness\\nIn your kind of Mancas by thy news from save,\\nTell me alone. What says he speak not to the place.\\n\\nELBOD:\\nHere lay fortent! a cracken times abroad,\\nMy fathe\"\n",
            " b\"ROMEO:\\nWhy, then wise as he, if you here for thy sovereign, hark!\\n\\nELBOW:\\nI think More you condemn'd.\\n\\nPOMPEY:\\nSend out, as it was head; from the talk badver their way\\nThey have with her lady digging on the rin?\\nAnd that till shame, man, thou not very insoluation\\nAs maint what thou hast been dayous here.\\nMy Lord For stating like that stand it! Therefore, good\\nThou struckens at Bolingbroke.\\n\\nHENRY BOLINGBROKE:\\nSirrah, why, then, good Griund not remember not the right of war\\nAs this down, next, am sure oppossible\\nTo sunding theirs that the feast, quiet, ord thou, mine henry.\\nInstingnate thy wearights and give himself!\\n\\nGLOUCESTER:\\nWill you law the crown I knee forsed a reported beweres:\\nSir will I warrant of his,--thence no matter give wrungs how\\nthat the proclaim by you your action, that not which as use\\nnot consul, Nay, if you did ever the morn swiftel\\nThy very heat: 'tis two are flatter, though,\\nWhich, batbuch, and take of me life stones: Pompent this\\nfaced eyes, deslecting be drunk and sen\"\n",
            " b\"ROMEO:\\nBut his Dorret's daughter, none? Farewell! Cler, to him.\\nStir think it well, you will, who sut for steered.\\n\\nJULIET:\\nTell's, pretruction in the people that the glore have look'd us\\nto-day the bear might tell her, sir. I will say as you come.\\n\\nBRUTUS:\\nHere's at the ear; for who began?\\n\\nMERCUTIO:\\nBreaking, black to-night, let me have let's at the fight:\\nAnd too rath, what means despair, betwing forth:\\nBut passed the smad that he afraid?\\nBut yet since I did not was hollow blissed.\\nThink you have profaned well at himself, sir!\\n\\nELBAW:\\nO, putrime for flyself and hour's pites.\\n\\nPETRUCHIO:\\nMyself apollood scope of Rome:\\nRemoved, if you live, and cannot sught it;\\nAnd, since I called. We\\nhave your worship here.\\n\\nCAPULET:\\nFellow Citizens:\\nDo thank the sight of self\\nAs was not something man that think her dead,\\nAt the younger day should sluigs forth. Though she was stood;\\nSay I frame rive in his sons.\\n\\nCORIOLANUS:\\nHe should hither thou law'st not doth hard all.\\n\\nBARNARDINE:\\nThe precious cavernin\"\n",
            " b\"ROMEO:\\nFellow, he is ready. Methat, are exulty as Edward stir, a\\nhouse of all the captain of my soul's desperate.\\n\\nQUEEN ELIZABETH:\\nNay, steal all, but when you shall take unwasp'd\\nWould I: fair sins long suns, it. You have ever'd the heels and\\nprocure of soon promothers.\\n\\nVILINIUS:\\nNow, genenate!\\nThou shouldst array leave or clambation of warrant\\nTo my eyes drewning: is my phomise is more\\nThan I here set my untertaring black myself.\\nBut drinking of it a fallen-you are, thou hast deserved\\nYou on thy flowers, make a speech your name, and turn\\nyour pates; then have follow joy and transporm'd\\nHer fault or bring this only have rishen's ashes wounds?\\n\\nKING RICHARD II:\\nWhy it fast, take my mother venied by mineching,\\nAnd 'I will unto my greater thing;\\nWhich I have no duel at once\\nthe tying nothing, and we love to need the provost?\\n\\nCLIFFORD:\\nSo will be sir, what news who couldst, thou keep'st,\\nWe another heart a luneworser, I charge you, answer they\\nAnd serves your hands with goodness as a voise.\\n\"\n",
            " b\"ROMEO:\\n\\nJUHIET:\\nSpeak, Pade: I'll tell you you were.\\n\\nSTALLIAN:\\nDo not sick and expotition.\\n\\nDUKE OF AUMERLE:\\nThe prooffread brother, ann occasion blewded one about her\\nAgainst the unquitionch as of! The gots\\nIs that at exively deposits.\\n\\nEDWARD:\\nLet the prince hath renown'd friends, and therefore I may live:\\nTell me, my noble fares: as 'twere to London,\\nAnd give rising but the achieve blows of your lord;\\nFool spoke overward sadmerous,\\nFor this new-staining awaying wile in your kingdom?\\n\\nDUCHESS OF YORK:\\nTo-morrow sir, as he is a night\\nWithout thine ears. We must age. O, cannot that I have been afore\\nAll seen the one indeepty eagnests.\\n\\nLADY ANNE:\\nI'll swear't.\\n\\nBRUTUS:\\nOne old breath, and merry issued of thy header\\nA careful grace: and Lain along, sir?\\n\\nProvost:\\nI know a blushes\\nExecute a plowe of serves, to say\\nHe readers to the battle for her eyes to speak.\\n\\nKING RICHARD II:\\nO Romeo, hate, man, as the spirit!\\n\\nClown:\\nTwo kits any ring: all a kind of you your knee,\\nAs best only subjorm me \"], shape=(5,), dtype=string) \n",
            "\n",
            "________________________________________________________________________________\n",
            "\n",
            "Run time: 3.7042465209960938\n"
          ]
        }
      ]
    },
    {
      "cell_type": "markdown",
      "source": [
        "### Ekspor Model Generator"
      ],
      "metadata": {
        "id": "u-hfZk1KctSG"
      }
    },
    {
      "cell_type": "code",
      "source": [
        "tf.saved_model.save(one_step_model, 'one_step')\n",
        "one_step_reloaded = tf.saved_model.load('one_step')"
      ],
      "metadata": {
        "colab": {
          "base_uri": "https://localhost:8080/"
        },
        "id": "nPSaHxUxcuoy",
        "outputId": "0980c2d8-bc3a-41dc-ce8c-0e3f34872041"
      },
      "execution_count": 69,
      "outputs": [
        {
          "output_type": "stream",
          "name": "stderr",
          "text": [
            "WARNING:tensorflow:Skipping full serialization of Keras layer <__main__.OneStep object at 0x7bdbab7c4be0>, because it is not built.\n",
            "WARNING:tensorflow:Model's `__init__()` arguments contain non-serializable objects. Please implement a `get_config()` method in the subclassed Model for proper saving and loading. Defaulting to empty config.\n",
            "WARNING:tensorflow:Model's `__init__()` arguments contain non-serializable objects. Please implement a `get_config()` method in the subclassed Model for proper saving and loading. Defaulting to empty config.\n"
          ]
        }
      ]
    },
    {
      "cell_type": "code",
      "source": [
        "states = None\n",
        "next_char = tf.constant(['ROMEO:'])\n",
        "result = [next_char]\n",
        "\n",
        "for n in range(100):\n",
        "  next_char, states = one_step_reloaded.generate_one_step(next_char, states=states)\n",
        "  result.append(next_char)\n",
        "\n",
        "print(tf.strings.join(result)[0].numpy().decode(\"utf-8\"))"
      ],
      "metadata": {
        "colab": {
          "base_uri": "https://localhost:8080/"
        },
        "id": "r5pn3tHycwQI",
        "outputId": "59b62a65-1199-4087-fd7e-34da2878f6cf"
      },
      "execution_count": 70,
      "outputs": [
        {
          "output_type": "stream",
          "name": "stdout",
          "text": [
            "ROMEO:\n",
            "It is gone, tell me, have at thy mother, to the state.\n",
            "But now, sid may obsequies will not fail is \n"
          ]
        }
      ]
    },
    {
      "cell_type": "markdown",
      "source": [
        "# Tugas Praktikum"
      ],
      "metadata": {
        "id": "1JdqX95v5BrL"
      }
    },
    {
      "cell_type": "markdown",
      "source": [
        "1. Jalankan Model dan hitung loss dengan `tf.GradientTape`.\n",
        "2. Hitung update dan terapkan pada model dengan optimizer\n"
      ],
      "metadata": {
        "id": "WTPlQ9FHA29j"
      }
    },
    {
      "cell_type": "code",
      "source": [
        "class CustomTraining(MyModel):\n",
        "  @tf.function\n",
        "  def train_step(self, inputs):\n",
        "      inputs, labels = inputs\n",
        "      with tf.GradientTape() as tape:\n",
        "          predictions = self(inputs, training=True)\n",
        "          loss = self.loss(labels, predictions)\n",
        "      grads = tape.gradient(loss, model.trainable_variables)\n",
        "      self.optimizer.apply_gradients(zip(grads, model.trainable_variables))\n",
        "\n",
        "      return {'loss': loss}"
      ],
      "metadata": {
        "id": "YRKe-tqW5EHz"
      },
      "execution_count": 71,
      "outputs": []
    },
    {
      "cell_type": "code",
      "source": [
        "model = CustomTraining(\n",
        "    vocab_size=len(ids_from_chars.get_vocabulary()),\n",
        "    embedding_dim=embedding_dim,\n",
        "    rnn_units=rnn_units)"
      ],
      "metadata": {
        "id": "4dyshTSA_OCA"
      },
      "execution_count": 72,
      "outputs": []
    },
    {
      "cell_type": "code",
      "source": [
        "model.compile(optimizer = tf.keras.optimizers.Adam(),\n",
        "              loss=tf.keras.losses.SparseCategoricalCrossentropy(from_logits=True))"
      ],
      "metadata": {
        "id": "wc8xy6Nf_S6D"
      },
      "execution_count": 73,
      "outputs": []
    },
    {
      "cell_type": "code",
      "source": [
        "model.fit(dataset, epochs=1)"
      ],
      "metadata": {
        "colab": {
          "base_uri": "https://localhost:8080/"
        },
        "id": "Tq-U8EZr_ZQ1",
        "outputId": "f22daeb8-c991-412a-e398-1f280fd30b3d"
      },
      "execution_count": 74,
      "outputs": [
        {
          "output_type": "stream",
          "name": "stdout",
          "text": [
            "172/172 [==============================] - 15s 61ms/step - loss: 2.7259\n"
          ]
        },
        {
          "output_type": "execute_result",
          "data": {
            "text/plain": [
              "<keras.src.callbacks.History at 0x7bdba84c7d30>"
            ]
          },
          "metadata": {},
          "execution_count": 74
        }
      ]
    },
    {
      "cell_type": "code",
      "source": [
        "EPOCHS = 10\n",
        "\n",
        "mean = tf.metrics.Mean()\n",
        "\n",
        "for epoch in range(EPOCHS):\n",
        "    start = time.time()\n",
        "\n",
        "    mean.reset_states()\n",
        "    for (batch_n, (inp, target)) in enumerate(dataset):\n",
        "        logs = model.train_step([inp, target])\n",
        "        mean.update_state(logs['loss'])\n",
        "\n",
        "        if batch_n % 50 == 0:\n",
        "            template = f\"Epoch {epoch+1} Batch {batch_n} Loss {logs['loss']:.4f}\"\n",
        "            print(template)\n",
        "\n",
        "    # saving (checkpoint) the model every 5 epochs\n",
        "    if (epoch + 1) % 5 == 0:\n",
        "        model.save_weights(checkpoint_prefix.format(epoch=epoch))\n",
        "\n",
        "    print()\n",
        "    print(f'Epoch {epoch+1} Loss: {mean.result().numpy():.4f}')\n",
        "    print(f'Time taken for 1 epoch {time.time() - start:.2f} sec')\n",
        "    print(\"_\"*80)\n",
        "\n",
        "model.save_weights(checkpoint_prefix.format(epoch=epoch))"
      ],
      "metadata": {
        "colab": {
          "base_uri": "https://localhost:8080/"
        },
        "id": "HGUTTdN2_pwG",
        "outputId": "9c8534a7-60ae-4f9e-9e45-49f929ca3b37"
      },
      "execution_count": 75,
      "outputs": [
        {
          "output_type": "stream",
          "name": "stdout",
          "text": [
            "Epoch 1 Batch 0 Loss 2.1581\n",
            "Epoch 1 Batch 50 Loss 2.0693\n",
            "Epoch 1 Batch 100 Loss 1.9772\n",
            "Epoch 1 Batch 150 Loss 1.8845\n",
            "\n",
            "Epoch 1 Loss: 1.9888\n",
            "Time taken for 1 epoch 13.06 sec\n",
            "________________________________________________________________________________\n",
            "Epoch 2 Batch 0 Loss 1.8599\n",
            "Epoch 2 Batch 50 Loss 1.7751\n",
            "Epoch 2 Batch 100 Loss 1.6376\n",
            "Epoch 2 Batch 150 Loss 1.7035\n",
            "\n",
            "Epoch 2 Loss: 1.7100\n",
            "Time taken for 1 epoch 12.00 sec\n",
            "________________________________________________________________________________\n",
            "Epoch 3 Batch 0 Loss 1.5545\n",
            "Epoch 3 Batch 50 Loss 1.5741\n",
            "Epoch 3 Batch 100 Loss 1.5547\n",
            "Epoch 3 Batch 150 Loss 1.5024\n",
            "\n",
            "Epoch 3 Loss: 1.5503\n",
            "Time taken for 1 epoch 11.84 sec\n",
            "________________________________________________________________________________\n",
            "Epoch 4 Batch 0 Loss 1.4770\n",
            "Epoch 4 Batch 50 Loss 1.4626\n",
            "Epoch 4 Batch 100 Loss 1.4683\n",
            "Epoch 4 Batch 150 Loss 1.4051\n",
            "\n",
            "Epoch 4 Loss: 1.4519\n",
            "Time taken for 1 epoch 11.39 sec\n",
            "________________________________________________________________________________\n",
            "Epoch 5 Batch 0 Loss 1.4176\n",
            "Epoch 5 Batch 50 Loss 1.4119\n",
            "Epoch 5 Batch 100 Loss 1.3706\n",
            "Epoch 5 Batch 150 Loss 1.3701\n",
            "\n",
            "Epoch 5 Loss: 1.3849\n",
            "Time taken for 1 epoch 12.44 sec\n",
            "________________________________________________________________________________\n",
            "Epoch 6 Batch 0 Loss 1.3218\n",
            "Epoch 6 Batch 50 Loss 1.3347\n",
            "Epoch 6 Batch 100 Loss 1.3152\n",
            "Epoch 6 Batch 150 Loss 1.3284\n",
            "\n",
            "Epoch 6 Loss: 1.3328\n",
            "Time taken for 1 epoch 11.14 sec\n",
            "________________________________________________________________________________\n",
            "Epoch 7 Batch 0 Loss 1.2891\n",
            "Epoch 7 Batch 50 Loss 1.3028\n",
            "Epoch 7 Batch 100 Loss 1.2865\n",
            "Epoch 7 Batch 150 Loss 1.3180\n",
            "\n",
            "Epoch 7 Loss: 1.2879\n",
            "Time taken for 1 epoch 11.24 sec\n",
            "________________________________________________________________________________\n",
            "Epoch 8 Batch 0 Loss 1.2297\n",
            "Epoch 8 Batch 50 Loss 1.2690\n",
            "Epoch 8 Batch 100 Loss 1.2329\n",
            "Epoch 8 Batch 150 Loss 1.2722\n",
            "\n",
            "Epoch 8 Loss: 1.2472\n",
            "Time taken for 1 epoch 11.55 sec\n",
            "________________________________________________________________________________\n",
            "Epoch 9 Batch 0 Loss 1.1886\n",
            "Epoch 9 Batch 50 Loss 1.2428\n",
            "Epoch 9 Batch 100 Loss 1.2350\n",
            "Epoch 9 Batch 150 Loss 1.1925\n",
            "\n",
            "Epoch 9 Loss: 1.2092\n",
            "Time taken for 1 epoch 11.56 sec\n",
            "________________________________________________________________________________\n",
            "Epoch 10 Batch 0 Loss 1.1274\n",
            "Epoch 10 Batch 50 Loss 1.2112\n",
            "Epoch 10 Batch 100 Loss 1.1488\n",
            "Epoch 10 Batch 150 Loss 1.1778\n",
            "\n",
            "Epoch 10 Loss: 1.1692\n",
            "Time taken for 1 epoch 11.73 sec\n",
            "________________________________________________________________________________\n"
          ]
        }
      ]
    },
    {
      "cell_type": "markdown",
      "source": [
        "Apa perbedaanya dengan praktikum 2?\n",
        "\n",
        "Metode pelatihan pada praktikum 2, menggunakan metode pelatihan OneStep, merujuk pada pendekatan pelatihan yang sederhana di mana model dilatih menggunakan keseluruhan dataset sekaligus. Model ini menerima urutan data masukan dan menghasilkan urutan prediksi berdasarkan urutan masukan tersebut.\n",
        "\n",
        "Sedangkan kode di atas menggunakan pelatihan kustom, pada RNN pelatihan custom adalah pendekatan yang lebih kompleks di mana kita memiliki kontrol lebih besar atas proses pelatihan. Hal ini memungkinkan kita untuk menyesuaikan berbagai parameter dan komponen dari RNN, seperti arsitektur jaringan, fungsi aktivasi, jenis optimisasi, dan lain sebagainya."
      ],
      "metadata": {
        "id": "tv4YI1_kBIT5"
      }
    }
  ]
}