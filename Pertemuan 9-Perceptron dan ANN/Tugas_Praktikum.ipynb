{
  "nbformat": 4,
  "nbformat_minor": 0,
  "metadata": {
    "colab": {
      "provenance": [],
      "authorship_tag": "ABX9TyNJSSHtIwzH+PGsbSPzKlEF",
      "include_colab_link": true
    },
    "kernelspec": {
      "name": "python3",
      "display_name": "Python 3"
    },
    "language_info": {
      "name": "python"
    }
  },
  "cells": [
    {
      "cell_type": "markdown",
      "metadata": {
        "id": "view-in-github",
        "colab_type": "text"
      },
      "source": [
        "<a href=\"https://colab.research.google.com/github/zakyzuf/2141720173-machine-learning-2023/blob/main/Pertemuan%209-Perceptron%20dan%20ANN/Tugas_Praktikum.ipynb\" target=\"_parent\"><img src=\"https://colab.research.google.com/assets/colab-badge.svg\" alt=\"Open In Colab\"/></a>"
      ]
    },
    {
      "cell_type": "markdown",
      "source": [
        "# Tugas\n",
        "<ul>\n",
        "<li>Lakukan klasifikasi pada data MNIST dengan menggunakan model ANN</li>\n",
        "<li>Anda diperbolehkan melakukan eksplorasi terhadap,</li>\n",
        "<ul><li>Metode pra pengolahan</li>\n",
        "<li>Pemilihan fitur</li>\n",
        "<li>Arsitektur ANN</li>\n",
        "<li>Fungsi Aktiviasi</li></ul>\n",
        "<li>ANN diimplementasikan dengan menggunakan tensorflow.</li>\n",
        "<li><B>DIKERJAKAN SECARA BERKELOMPOK</li>\n",
        "<li>JELASKAN HASIL YANG ANDA DAPATKAN,</li>\n",
        "<ul><li>AKURASI</li>\n",
        "<li>CONFUSION MATRIX</li>\n",
        "<li>KONFIGURASI MODEL --> MULAI DARI PRA PENGOLAHAN SAMPAI ARSITEKTUR ANN</li></ul>\n",
        "</ul>"
      ],
      "metadata": {
        "id": "8SRawYrZrUVY"
      }
    },
    {
      "cell_type": "markdown",
      "source": [
        "## Pra Pengolahan Data"
      ],
      "metadata": {
        "id": "wIoyUpz3shLv"
      }
    },
    {
      "cell_type": "markdown",
      "source": [
        "### Langkah 1 - Import Library"
      ],
      "metadata": {
        "id": "0CDDejaksk6W"
      }
    },
    {
      "cell_type": "code",
      "source": [
        "import numpy as np\n",
        "import matplotlib.pyplot as plt\n",
        "import seaborn as sns\n",
        "from sklearn.decomposition import PCA\n",
        "from sklearn.preprocessing import StandardScaler\n",
        "from sklearn.model_selection import train_test_split\n",
        "from sklearn.metrics import accuracy_score, confusion_matrix\n",
        "import tensorflow as tf\n",
        "from tensorflow.keras.datasets import mnist"
      ],
      "metadata": {
        "id": "MLv6TIsGscT4"
      },
      "execution_count": 27,
      "outputs": []
    },
    {
      "cell_type": "markdown",
      "source": [
        "### Langkah 2 - Load Data"
      ],
      "metadata": {
        "id": "NAiGKDhlxxYG"
      }
    },
    {
      "cell_type": "code",
      "source": [
        "# Memuat data MNIST\n",
        "(x_train, y_train), (x_test, y_test) = mnist.load_data()"
      ],
      "metadata": {
        "id": "sml4u3PRxyjg"
      },
      "execution_count": 28,
      "outputs": []
    },
    {
      "cell_type": "markdown",
      "source": [
        "### Langkah 3 - Pengecekan Data MINST"
      ],
      "metadata": {
        "id": "5v1vRO0WyDni"
      }
    },
    {
      "cell_type": "code",
      "source": [
        "# Menghitung jumlah data keseluruhan\n",
        "total_data = len(y_train)\n",
        "print(f\"Jumlah data keseluruhan: {total_data}\")\n",
        "\n",
        "# Menghitung jumlah data MNIST untuk setiap label\n",
        "label_counts = np.bincount(y_train)\n",
        "for label, count in enumerate(label_counts):\n",
        "    print(f\"Jumlah data dengan label {label}: {count}\")\n",
        "\n",
        "# Menampilkan dimensi data\n",
        "data_shape = x_train[0].shape\n",
        "print(f\"Dimensi data: {data_shape}\")"
      ],
      "metadata": {
        "colab": {
          "base_uri": "https://localhost:8080/"
        },
        "id": "LNWyxD0HyEwF",
        "outputId": "c1a1cc29-bee5-4ade-e886-ecfce43d75a6"
      },
      "execution_count": 29,
      "outputs": [
        {
          "output_type": "stream",
          "name": "stdout",
          "text": [
            "Jumlah data keseluruhan: 60000\n",
            "Jumlah data dengan label 0: 5923\n",
            "Jumlah data dengan label 1: 6742\n",
            "Jumlah data dengan label 2: 5958\n",
            "Jumlah data dengan label 3: 6131\n",
            "Jumlah data dengan label 4: 5842\n",
            "Jumlah data dengan label 5: 5421\n",
            "Jumlah data dengan label 6: 5918\n",
            "Jumlah data dengan label 7: 6265\n",
            "Jumlah data dengan label 8: 5851\n",
            "Jumlah data dengan label 9: 5949\n",
            "Dimensi data: (28, 28)\n"
          ]
        }
      ]
    },
    {
      "cell_type": "markdown",
      "source": [
        "### Langkah 4 - Normalisasi Data"
      ],
      "metadata": {
        "id": "iW3hJalIyfwD"
      }
    },
    {
      "cell_type": "code",
      "source": [
        "x_train = x_train / 255.0\n",
        "x_test = x_test / 255.0"
      ],
      "metadata": {
        "id": "chCIx-5I5-dD"
      },
      "execution_count": 30,
      "outputs": []
    },
    {
      "cell_type": "markdown",
      "source": [
        "### Langkah 5 - Mengubah Bentuk Data"
      ],
      "metadata": {
        "id": "SL1TyNbM6J_s"
      }
    },
    {
      "cell_type": "code",
      "source": [
        "x_train = x_train.reshape(-1, 28*28)\n",
        "x_test = x_test.reshape(-1, 28*28)"
      ],
      "metadata": {
        "id": "oAeytt-V6NU7"
      },
      "execution_count": 31,
      "outputs": []
    },
    {
      "cell_type": "markdown",
      "source": [
        "### Langkah 6 - Split Data"
      ],
      "metadata": {
        "id": "I8fvhoIP6Zj_"
      }
    },
    {
      "cell_type": "code",
      "source": [
        "X_train, X_val, y_train, y_val = train_test_split(x_train, y_train, test_size=0.2, random_state=42)"
      ],
      "metadata": {
        "id": "zFx-bBCF6dDJ"
      },
      "execution_count": 32,
      "outputs": []
    },
    {
      "cell_type": "markdown",
      "source": [
        "## Membuat Model ANN"
      ],
      "metadata": {
        "id": "nIuw8wxs6qNa"
      }
    },
    {
      "cell_type": "markdown",
      "source": [
        "### Langkah 1 - Inisiasi Model ANN"
      ],
      "metadata": {
        "id": "322_hwac6uem"
      }
    },
    {
      "cell_type": "code",
      "source": [
        "ann = tf.keras.models.Sequential()"
      ],
      "metadata": {
        "id": "gkVR-vlC6xxc"
      },
      "execution_count": 33,
      "outputs": []
    },
    {
      "cell_type": "markdown",
      "source": [
        "### Langkah 2 - Membuat Input Layer dan Hidden Layer Pertama"
      ],
      "metadata": {
        "id": "PeNwuLoX79lH"
      }
    },
    {
      "cell_type": "code",
      "source": [
        "ann.add(tf.keras.layers.Dense(units=128, activation='relu'))"
      ],
      "metadata": {
        "id": "qpJ_Lr978Arf"
      },
      "execution_count": 34,
      "outputs": []
    },
    {
      "cell_type": "markdown",
      "source": [
        "### Langkah 3 - Membuat Hidden Layer Kedua"
      ],
      "metadata": {
        "id": "QPogi2o68Ig5"
      }
    },
    {
      "cell_type": "code",
      "source": [
        "ann.add(tf.keras.layers.Dense(units=64, activation='relu'))"
      ],
      "metadata": {
        "id": "5AkoSc_f8LGy"
      },
      "execution_count": 35,
      "outputs": []
    },
    {
      "cell_type": "markdown",
      "source": [
        "### Langkah 4 - Membuat Output Layer"
      ],
      "metadata": {
        "id": "v0ptQjEq8PMT"
      }
    },
    {
      "cell_type": "code",
      "source": [
        "ann.add(tf.keras.layers.Dense(units=10, activation='softmax'))"
      ],
      "metadata": {
        "id": "WzITSQ4H8SLS"
      },
      "execution_count": 36,
      "outputs": []
    },
    {
      "cell_type": "markdown",
      "source": [
        "## Training Model"
      ],
      "metadata": {
        "id": "fgfo4gO18nPW"
      }
    },
    {
      "cell_type": "markdown",
      "source": [
        "### Langkah 1 - Compile Model (Menyatukan Arsitektur) ANN"
      ],
      "metadata": {
        "id": "hfAoUVzc8tDY"
      }
    },
    {
      "cell_type": "code",
      "source": [
        "ann.compile(optimizer='adam', loss='sparse_categorical_crossentropy', metrics=['accuracy'], run_eagerly=True)"
      ],
      "metadata": {
        "id": "Q0i2rMuC8zn8"
      },
      "execution_count": 39,
      "outputs": []
    },
    {
      "cell_type": "markdown",
      "source": [
        "### Langkah 2 - Fitting Model"
      ],
      "metadata": {
        "id": "f99Awv0E83X2"
      }
    },
    {
      "cell_type": "code",
      "source": [
        "ann.fit(X_train, y_train, epochs=10, batch_size=256, shuffle=True)"
      ],
      "metadata": {
        "colab": {
          "base_uri": "https://localhost:8080/"
        },
        "id": "zgYp-O_i9Ufh",
        "outputId": "6d3b45d3-f70f-4105-d446-df99778143bb"
      },
      "execution_count": 40,
      "outputs": [
        {
          "output_type": "stream",
          "name": "stdout",
          "text": [
            "Epoch 1/10\n",
            "188/188 [==============================] - 9s 47ms/step - loss: 0.4539 - accuracy: 0.8738\n",
            "Epoch 2/10\n",
            "188/188 [==============================] - 7s 39ms/step - loss: 0.1780 - accuracy: 0.9482\n",
            "Epoch 3/10\n",
            "188/188 [==============================] - 7s 35ms/step - loss: 0.1301 - accuracy: 0.9630\n",
            "Epoch 4/10\n",
            "188/188 [==============================] - 7s 39ms/step - loss: 0.1024 - accuracy: 0.9700\n",
            "Epoch 5/10\n",
            "188/188 [==============================] - 7s 37ms/step - loss: 0.0822 - accuracy: 0.9762\n",
            "Epoch 6/10\n",
            "188/188 [==============================] - 7s 35ms/step - loss: 0.0682 - accuracy: 0.9800\n",
            "Epoch 7/10\n",
            "188/188 [==============================] - 7s 39ms/step - loss: 0.0572 - accuracy: 0.9835\n",
            "Epoch 8/10\n",
            "188/188 [==============================] - 6s 34ms/step - loss: 0.0476 - accuracy: 0.9864\n",
            "Epoch 9/10\n",
            "188/188 [==============================] - 7s 39ms/step - loss: 0.0412 - accuracy: 0.9882\n",
            "Epoch 10/10\n",
            "188/188 [==============================] - 6s 34ms/step - loss: 0.0342 - accuracy: 0.9905\n"
          ]
        },
        {
          "output_type": "execute_result",
          "data": {
            "text/plain": [
              "<keras.src.callbacks.History at 0x7c56c5b62710>"
            ]
          },
          "metadata": {},
          "execution_count": 40
        }
      ]
    },
    {
      "cell_type": "code",
      "source": [
        "test_loss, test_acc = ann.evaluate(x_test,  y_test, verbose=2)\n",
        "print('\\nTest accuracy:', test_acc)\n",
        "\n",
        "y_pred = np.argmax(ann.predict(x_test), axis=-1)\n",
        "\n",
        "print(\"Confusion Matrix:\")\n",
        "print(confusion_matrix(y_test, y_pred))\n"
      ],
      "metadata": {
        "colab": {
          "base_uri": "https://localhost:8080/"
        },
        "id": "l5kmCS-nBIpc",
        "outputId": "0e413115-dd06-4b55-e0c7-014f0e341b30"
      },
      "execution_count": 44,
      "outputs": [
        {
          "output_type": "stream",
          "name": "stdout",
          "text": [
            "313/313 - 4s - loss: 0.0758 - accuracy: 0.9762 - 4s/epoch - 12ms/step\n",
            "\n",
            "Test accuracy: 0.9761999845504761\n",
            "313/313 [==============================] - 1s 4ms/step\n",
            "Confusion Matrix:\n",
            "[[ 966    2    4    0    0    2    4    1    1    0]\n",
            " [   0 1123    4    1    0    1    2    0    4    0]\n",
            " [   1    1 1019    2    1    0    1    3    4    0]\n",
            " [   0    0    9  983    0    4    0    2    8    4]\n",
            " [   2    0    5    0  960    1    1    1    2   10]\n",
            " [   2    0    0   10    1  869    3    1    4    2]\n",
            " [   6    2    1    1    2   12  931    0    3    0]\n",
            " [   0    5   16    1    0    0    0  992    3   11]\n",
            " [   3    1    7    6    1    5    2    2  945    2]\n",
            " [   1    3    1    5    9    6    1    3    6  974]]\n"
          ]
        }
      ]
    },
    {
      "cell_type": "markdown",
      "source": [],
      "metadata": {
        "id": "EjmpTeaLCIOP"
      }
    },
    {
      "cell_type": "markdown",
      "source": [
        "### Visualisasi Confusion Matrix dalam Heatmap"
      ],
      "metadata": {
        "id": "WMfC6EKEC05q"
      }
    },
    {
      "cell_type": "code",
      "source": [
        "accuracy = accuracy_score(y_test, y_pred)\n",
        "print(\"Akurasi:\", accuracy)\n",
        "\n",
        "confusion_mat = confusion_matrix(y_test, y_pred)\n",
        "plt.figure(figsize=(8, 6))\n",
        "sns.heatmap(confusion_mat, annot=True, fmt='d', cmap='rainbow', xticklabels=range(10), yticklabels=range(10))\n",
        "plt.xlabel('Prediksi')\n",
        "plt.ylabel('Aktual')\n",
        "plt.title('Confusion Matrix')\n",
        "plt.show()"
      ],
      "metadata": {
        "colab": {
          "base_uri": "https://localhost:8080/",
          "height": 581
        },
        "id": "_nxCQGKlDEm3",
        "outputId": "aaf19aaa-2563-4b1c-b8ce-80b1ab496f62"
      },
      "execution_count": 46,
      "outputs": [
        {
          "output_type": "stream",
          "name": "stdout",
          "text": [
            "Akurasi: 0.9762\n"
          ]
        },
        {
          "output_type": "display_data",
          "data": {
            "text/plain": [
              "<Figure size 800x600 with 2 Axes>"
            ],
            "image/png": "[encoded data removed]"
          },
          "metadata": {}
        }
      ]
    },
    {
      "cell_type": "markdown",
      "source": [
        "### Visualisasi Hasil Prediksi"
      ],
      "metadata": {
        "id": "C-Z3J2uuDU3S"
      }
    },
    {
      "cell_type": "code",
      "source": [
        "random_indices = np.random.choice(x_test.shape[0], 10, replace=False)\n",
        "\n",
        "original_images = x_test[random_indices].reshape(-1, 28, 28)\n",
        "true_labels = y_test[random_indices]\n",
        "predictions = ann.predict(x_test)\n",
        "predicted_labels = np.argmax(predictions, axis=1)\n",
        "\n",
        "plt.figure(figsize=(12, 8))\n",
        "for i in range(10):\n",
        "    plt.subplot(2, 5, i + 1)\n",
        "    plt.imshow(original_images[i], cmap='gray')\n",
        "    plt.title(f\"True: {true_labels[i]}\\nPredicted: {predicted_labels[random_indices[i]]}\")\n",
        "    plt.axis('off')\n",
        "plt.show()\n"
      ],
      "metadata": {
        "colab": {
          "base_uri": "https://localhost:8080/",
          "height": 593
        },
        "id": "m7vQF3-sDbFU",
        "outputId": "335b8338-e3bd-4fcb-cc1c-c1b0d93ae803"
      },
      "execution_count": 50,
      "outputs": [
        {
          "output_type": "stream",
          "name": "stdout",
          "text": [
            "313/313 [==============================] - 1s 4ms/step\n"
          ]
        },
        {
          "output_type": "display_data",
          "data": {
            "text/plain": [
              "<Figure size 1200x800 with 10 Axes>"
            ],
            "image/png": "[encoded data removed]"
          },
          "metadata": {}
        }
      ]
    }
  ]
}